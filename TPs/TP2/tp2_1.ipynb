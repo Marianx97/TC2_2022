{
 "cells": [
  {
   "cell_type": "markdown",
   "metadata": {},
   "source": [
    "# TP2 - Ejercicio 1\n",
    "\n",
    "## Consignas\n",
    "El siguiente filtro pasabajos debe presentar una respuesta\n",
    "Butterworth con un ancho de banda de $-3dB$ a $1KHz$. Determinar el valor de L y C sabiendo que la carga es de $1K\\Omega$. Verificar las especificaciones del filtro mediante el uso de simuladores.\n",
    "\n",
    "Sugerencia: diseñar el filtro con valores normalizados en\n",
    "frecuencia e impedancia y luego desnormalizar para calcular el valor del filtro pedido.\n",
    "\n",
    "![Circuito](img/ej1_circuito.JPG)"
   ]
  },
  {
   "cell_type": "markdown",
   "metadata": {},
   "source": [
    "## Resolución\n",
    "\n",
    "Determinamos $\\Omega_\\omega = 2\\pi . 1KHz$ como norma de frecuencia y $\\Omega_Z = 1K\\Omega$ como norma de impedancia.\n",
    "\n",
    "* Sabemos que $\\epsilon^2 = 1$ ya que la consigna nos indica que el filtro es Butterworth.\n",
    "* Sabemos que $n = 2$ ya que la topología es fija.\n",
    "\n",
    "$ |T(j\\omega)|^2 = \\frac{1}{1+\\omega^{2 . 2}} $\n",
    "\n",
    "$ |T(j\\omega)|^2 = \\frac{1}{1+\\omega^4} $\n",
    "\n",
    "$ {|T(s)|^2}_{\\omega = \\frac{s}{j}} = \\frac{1}{1+(\\frac{s}{j})^4} $\n",
    "\n",
    "$j^4 = 1$\n",
    "\n",
    "$ |T(s)|^2 = \\frac{1}{1+s^4} $\n"
   ]
  },
  {
   "cell_type": "code",
   "execution_count": 3,
   "metadata": {},
   "outputs": [
    {
     "name": "stdout",
     "output_type": "stream",
     "text": [
      "(-0.7071067811865475+0.7071067811865476j)\n",
      "(-0.7071067811865475-0.7071067811865476j)\n"
     ]
    }
   ],
   "source": [
    "import numpy as np\n",
    "\n",
    "den = [1, 0, 0, 0, 1]\n",
    "raices = np.roots(den)\n",
    "\n",
    "# nos quedamos solamente con los polos del semiplano izquierdo\n",
    "for raiz in raices:\n",
    "    if np.real(raiz) < 0:\n",
    "        print(raiz)"
   ]
  },
  {
   "cell_type": "markdown",
   "metadata": {},
   "source": [
    "$T(s) = \\frac{1}{(s + (0,7071+j0,7071)) . (s + (0,7071-j0,7071))}$\n",
    "\n",
    "$T(s) = \\frac{1}{s^2 + s . 1,4142 + 1}$"
   ]
  },
  {
   "cell_type": "code",
   "execution_count": 6,
   "metadata": {},
   "outputs": [],
   "source": [
    "import matplotlib.pyplot as plt\n",
    "import scipy.signal as sig\n",
    "from splane import analyze_sys\n",
    "\n",
    "num = [1]\n",
    "den = [1, 1.4142, 1]\n",
    "\n",
    "transfer_f = sig.TransferFunction(num, den)\n",
    "\n",
    "plt.close('all')\n",
    "analyze_sys(transfer_f, 'Transferencia')"
   ]
  },
  {
   "cell_type": "markdown",
   "metadata": {},
   "source": [
    "La transferencia tiene la forma:\n",
    "\n",
    "$T(s) = \\frac{\\omega_0^2}{s^2 + s . \\frac{\\omega_0}{Q} + \\omega_0^2}$\n",
    "\n",
    "Al analizar la red circuital, nos encontramos que su transferencia tiene la forma:\n",
    "\n",
    "$T(s) = \\frac{\\frac{1}{L . C}}{s^2 + s . \\frac{1}{C . R} + \\frac{1}{L . C}}$\n",
    "\n",
    "Por lo tanto:\n",
    "\n",
    "$\\omega_0^2 = \\frac{1}{L . C}$\n",
    "\n",
    "$\\frac{\\omega_0}{Q} = \\frac{1}{C . R}$\n",
    "\n",
    "Como $R$ se corresponde con la norma de impedancia, $R = 1$ en el circuito normalizado.\n",
    "\n",
    "$1,4142 = \\frac{1}{C . 1}$\n",
    "\n",
    "$C = \\frac{1}{1,4142} = 0,7071$\n",
    "\n",
    "Como $\\omega_0 = 1$:\n",
    "\n",
    "$1 = \\frac{1}{L . C}$\n",
    "\n",
    "$L = \\frac{1}{0,7071} = 1,4142$"
   ]
  },
  {
   "cell_type": "code",
   "execution_count": 7,
   "metadata": {},
   "outputs": [
    {
     "name": "stdout",
     "output_type": "stream",
     "text": [
      "R:1000\n",
      "L:0.2250769205205584\n",
      "C:1.125384602602792e-07\n"
     ]
    }
   ],
   "source": [
    "# Aplicamos la desnormalizacion\n",
    "f0 = 1000\n",
    "Ww = 2 * np.pi * f0\n",
    "Wz = 1000\n",
    "\n",
    "R_n = 1\n",
    "L_n = 1.4142\n",
    "C_n = 0.7071\n",
    "\n",
    "R_dn = R_n * Wz\n",
    "L_dn = (L_n * Wz) / Ww\n",
    "C_dn = C_n / (Wz * Ww)\n",
    "\n",
    "print(f'R:{R_dn}')\n",
    "print(f'L:{L_dn}')\n",
    "print(f'C:{C_dn}')\n"
   ]
  },
  {
   "cell_type": "markdown",
   "metadata": {},
   "source": [
    "## Simulación\n",
    "\n",
    "![Circuito_desnormalizado](img/ej1_circuito_desnormalizado.JPG)\n",
    "\n",
    "![Transferencia](img/ej1_transferencia_desnormalizada.JPG)\n",
    "\n",
    "![Cursor](img/ej1_transferencia_cursor.JPG)"
   ]
  }
 ],
 "metadata": {
  "interpreter": {
   "hash": "6ca364f2759a5aafb09686aa9324eacc5d501526362630bb6a990b46351437c4"
  },
  "kernelspec": {
   "display_name": "Python 3.9.7 ('base')",
   "language": "python",
   "name": "python3"
  },
  "language_info": {
   "codemirror_mode": {
    "name": "ipython",
    "version": 3
   },
   "file_extension": ".py",
   "mimetype": "text/x-python",
   "name": "python",
   "nbconvert_exporter": "python",
   "pygments_lexer": "ipython3",
   "version": "3.9.7"
  },
  "orig_nbformat": 4
 },
 "nbformat": 4,
 "nbformat_minor": 2
}
