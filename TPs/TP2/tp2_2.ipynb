{
 "cells": [
  {
   "cell_type": "markdown",
   "metadata": {},
   "source": [
    "# TP2 - Ejercicio 1\n",
    "\n",
    "## Consignas\n",
    "A partir de la plantilla de atenuación de un filtro pasabajos y las siguientes especificaciones se pide:\n",
    "\n",
    "![Plantilla](img/ej2_plantilla.JPG)\n",
    "\n",
    "![Especificaciones](img/ej2_especificaciones.JPG)\n",
    "\n",
    "* Determinar el orden del filtro para máxima planicidad.\n",
    "* Determinar la ubicación de los polos y el Q asociado a los mismos.\n",
    "* Diseñar los filtros si se pretende una ganancia de $20dB$ en la banda de paso, utilizando estructura Sallen-Key (SK).\n",
    "* Verificar mediante simulación los circuitos obtenidos."
   ]
  },
  {
   "cell_type": "markdown",
   "metadata": {},
   "source": [
    "## Resolución\n",
    "\n",
    "Pasamos la plantilla al dominio de la frecuencia angular y aplicamos una norma de impedancia $\\Omega_\\omega = 2\\pi . f_s$\n",
    "\n",
    "<div><img src=\"img/ej2_plantilla_normalizada.jpeg\" width=\"500\"/></div>\n",
    "\n",
    "La aproximación de máxima planicidad es:\n",
    "\n",
    "$|T(j\\omega)|^2 = \\frac{1}{1 + \\epsilon^2 . \\omega^{2 . n}}$\n",
    "\n",
    "Debemos averiguar:\n",
    "\n",
    "* El valor de $\\epsilon$\n",
    "* El valor de $n$ (el orden)\n",
    "\n",
    "Para hallar $\\epsilon$ despejamos de la función de aproximación cuando $\\omega = 1$ y $\\alpha = \\alpha_{max}$\n",
    "$\\epsilon^2 = 10^{\\frac{\\alpha_{max}}{10}} - 1 $"
   ]
  },
  {
   "cell_type": "code",
   "execution_count": 2,
   "metadata": {},
   "outputs": [
    {
     "name": "stdout",
     "output_type": "stream",
     "text": [
      "ee: 0.12201845430196334\n",
      "e: 0.34931140018894796\n"
     ]
    }
   ],
   "source": [
    "import numpy as np\n",
    "\n",
    "ee = 10**(0.5/10)-1\n",
    "e = np.sqrt(ee)\n",
    "\n",
    "print(f'ee: {ee}')\n",
    "print(f'e: {e}')"
   ]
  },
  {
   "cell_type": "markdown",
   "metadata": {},
   "source": [
    "$\\epsilon^2 = 0,122$\n",
    "\n",
    "$\\epsilon = 0,3493$\n",
    "\n",
    "Una vez obtenido el valor de $\\epsilon$ se puede averiguar el orden ($n$) iterando en la funcion de aproximación con $\\omega = \\omega_s$ hasta alcanzar un valor de atenuación que sea mayor o igual al $\\alpha_{min}$"
   ]
  },
  {
   "cell_type": "code",
   "execution_count": 3,
   "metadata": {},
   "outputs": [
    {
     "name": "stdout",
     "output_type": "stream",
     "text": [
      "alpha(n = 1) = 1.726244753031962\n",
      "alpha(n = 2) = 4.701597905532439\n",
      "alpha(n = 3) = 9.449355371296486\n",
      "alpha(n = 4) = 15.083509050268164\n",
      "alpha(n = 5) = 21.00187472800753\n"
     ]
    }
   ],
   "source": [
    "ws = 2\n",
    "\n",
    "for n in range(1,6):\n",
    "    alpha = 10*np.log10(1+ee*ws**(2*n))\n",
    "    print(f'alpha(n = {n}) = {alpha}')"
   ]
  },
  {
   "cell_type": "markdown",
   "metadata": {},
   "source": [
    "Se puede observar que el mínimo valor de orden que cumple con el requisito de $\\alpha_{min}$ es $n = 5$.\n",
    "\n",
    "Una vez hallado el orden, la función de aproximación queda:\n",
    "\n",
    "$|T(j\\omega)|^2 = \\frac{1}{1 + \\epsilon^2 . \\omega^{2 . 5}}$\n",
    "\n",
    "$|T(j\\omega)|^2 = \\frac{1}{1 + \\epsilon^2 . \\omega^{10}}$\n",
    "\n",
    "Podemos considerar la expresión como:\n",
    "\n",
    "$|T(j\\omega)|^2 = \\frac{1}{1 + \\frac{\\omega^{10}}{\\epsilon^{-\\frac{2}{10}}}}$\n",
    "\n",
    "Donde consideramos $\\frac{1}{\\epsilon^2}$ como otra normalización. Por ende la transferencia queda:\n",
    "\n",
    "\n",
    "${|T(s)|^2}_{\\omega = \\frac{s}{j}} = \\frac{1}{1 + (\\frac{s}{j})^{10}}$\n",
    "\n",
    "$j^{10} = -1$\n",
    "\n",
    "${|T(s)|^2} = \\frac{1}{1 - s^{10}}$"
   ]
  },
  {
   "cell_type": "code",
   "execution_count": 9,
   "metadata": {},
   "outputs": [
    {
     "name": "stdout",
     "output_type": "stream",
     "text": [
      "(-1.0000000000000009+0j)\n",
      "(-0.8090169943749478+0.5877852522924734j)\n",
      "(-0.8090169943749478-0.5877852522924734j)\n",
      "(-0.30901699437494784+0.9510565162951544j)\n",
      "(-0.30901699437494784-0.9510565162951544j)\n"
     ]
    }
   ],
   "source": [
    "den = [-1, 0, 0, 0, 0, 0, 0, 0, 0, 0, 1]\n",
    "raices = np.roots(den)\n",
    "\n",
    "# nos quedamos solamente con los polos del semiplano izquierdo\n",
    "for raiz in raices:\n",
    "    if np.real(raiz) < 0:\n",
    "        print(raiz)"
   ]
  },
  {
   "cell_type": "markdown",
   "metadata": {},
   "source": [
    "La función transferencia puede expresarse como:\n",
    "\n",
    "$T(s) = \\frac{1}{[s + 1] . [s + (0,8+j0,59)] . [s + (0,8-j0,59)] . [s + (0,31+j0,95)] . [s + (0,31-j0,95)]}$\n",
    "\n",
    "Agrupandolo en 3 transferencias, 2 correspondientes a los pares de polos conjugados y una del polo simple, queda:\n",
    "\n",
    "$T(s) = \\frac{1}{s + 1} . \\frac{1}{s^2 + s . 1,6 + 1} . \\frac{1}{s^2 + s . 0,62 + 1}$"
   ]
  },
  {
   "cell_type": "code",
   "execution_count": 26,
   "metadata": {},
   "outputs": [],
   "source": [
    "import matplotlib.pyplot as plt\n",
    "import scipy.signal as sig\n",
    "from splane import analyze_sys\n",
    "\n",
    "num = [1]\n",
    "den = [1, 3.2, 5.17, 5.17, 3.18, 1]\n",
    "\n",
    "transfer_f = sig.TransferFunction(num, den)\n",
    "\n",
    "plt.close('all')\n",
    "analyze_sys(transfer_f, 'Transferencia')"
   ]
  },
  {
   "cell_type": "markdown",
   "metadata": {},
   "source": [
    "En el análisis de la transferencia marca $-3dB$ en $\\omega=1$ ya que aplicamos la renormalización de $\\epsilon$"
   ]
  },
  {
   "cell_type": "markdown",
   "metadata": {},
   "source": [
    "Recordando que la transferencia de un pasa-bajos puede expresarse como:\n",
    "\n",
    "Para un primer orden:\n",
    "\n",
    "$T(s) = \\frac{\\omega_0}{s+\\omega_0}$\n",
    "\n",
    "Para un segundo orden:\n",
    "\n",
    "$T(s) = \\frac{\\omega_0^2}{s^2 + s . \\frac{\\omega_0}{Q}+ \\omega_0^2}$\n",
    "\n",
    "Para determinar el valor de $Q$ asociado a las etapas de segundo orden, planteamos:\n",
    "\n",
    "En ambas etapas:\n",
    "\n",
    "$\\omega_0^2 = 1$\n",
    "\n",
    "$\\omega_0 = 1$\n",
    "\n",
    "Etapa 1:\n",
    "\n",
    "$\\frac{\\omega_0}{Q} = 1,6$\n",
    "\n",
    "$Q = \\frac{1}{1,6} = 0,625$\n",
    "\n",
    "Etapa 2:\n",
    "\n",
    "$\\frac{\\omega_0}{Q} = 0,62$\n",
    "\n",
    "$Q = \\frac{1}{0,62} = 1,61$"
   ]
  },
  {
   "cell_type": "markdown",
   "metadata": {},
   "source": [
    "## Diseño del filtro con estructura SK\n",
    "\n",
    "La estructura SK tiene la siguiente forma:\n",
    "\n",
    "![Estructura_SK](img/ej2_estructura_sk.JPG)\n",
    "\n",
    "Considerando:\n",
    "\n",
    "* $R_1 = R_2 = R$\n",
    "* $R_3 = R_a$\n",
    "* $R_4 = R_b$\n",
    "\n",
    "Las ecuaciones de diseño de esta estructura son:\n",
    "\n",
    "$K = 1 + \\frac{R_b}{R_a}$\n",
    "\n",
    "$Q = \\frac{\\sqrt{C_1 . C_2}}{2 . C_2 + C_1 . (1 - K)}$\n",
    "\n",
    "$\\omega_p = \\frac{1}{R . \\sqrt{C_1 . C_2}}$\n",
    "\n",
    "Adoptando las siguientes condiciones:\n",
    "\n",
    "* $R = 1$\n",
    "* $C_1 = n . C$\n",
    "* $C_2 = C$\n",
    "\n",
    "Partiendo de la expresión de la frecuencia, considerando que está normalizada ($\\omega_p = 1$):\n",
    "\n",
    "$1 = \\frac{1}{C .\\sqrt{n}}$\n",
    "\n",
    "$C = \\frac{1}{\\sqrt{n}}$\n",
    "\n",
    "$n = \\frac{1}{C^2}$\n",
    "\n",
    "Entonces:\n",
    "\n",
    "* $C_1 = \\frac{1}{C}$\n",
    "* $C_2 = C$"
   ]
  },
  {
   "cell_type": "markdown",
   "metadata": {},
   "source": [
    "Partiendo de la expresión de Q:\n",
    "\n",
    "$Q = \\frac{\\sqrt{C_1 . C_2}}{2 . C_2 + C_1 . (1 - K)}$\n",
    "\n",
    "$Q = \\frac{C . \\sqrt{n}}{C . (2 . n + (1 - K))}$\n",
    "\n",
    "$Q = \\frac{\\sqrt{n}}{(2 . n + (1 - K))}$\n",
    "\n",
    "$Q = \\frac{1}{C} . \\frac{1}{2 . \\frac{1}{C^2} + (1 - K)}$\n",
    "\n",
    "$Q = \\frac{1}{2 . \\frac{1}{C} + C . (1 - K)}$\n",
    "\n",
    "$Q = \\frac{C . }{2 + C^2 . (1 - K)}$\n",
    "\n",
    "$C^2 . (1 - K) . Q - C + 2 . Q = 0$\n"
   ]
  },
  {
   "cell_type": "markdown",
   "metadata": {},
   "source": [
    "Para tener $20dB$ de amplificación, la ganancia en veces debe ser $10$. Repartiendo esta ganancia equitativamente en cada etapa como $K_1 = K_2 = \\sqrt{10} = 3,1622$."
   ]
  },
  {
   "cell_type": "markdown",
   "metadata": {},
   "source": [
    "Para la etapa 1:\n",
    "\n",
    "$Q_1 = 0,625$"
   ]
  },
  {
   "cell_type": "code",
   "execution_count": 30,
   "metadata": {},
   "outputs": [
    {
     "name": "stdout",
     "output_type": "stream",
     "text": [
      "C: 0.6604816184049843\n"
     ]
    }
   ],
   "source": [
    "Q1 = 0.625\n",
    "K1 = 3.1622\n",
    "\n",
    "a = (1 - K1) * Q1\n",
    "b = -1\n",
    "c = 2*Q1\n",
    "\n",
    "raices = np.roots([a, b, c])\n",
    "\n",
    "# Nos quedamos con el resultado positivo ya que es el que tiene sentido para determinar el valor del capacitor\n",
    "for raiz in raices:\n",
    "    if raiz > 0:\n",
    "        print(f'C: {raiz}')"
   ]
  },
  {
   "cell_type": "markdown",
   "metadata": {},
   "source": [
    "Para la etapa 2:\n",
    "\n",
    "$Q_2 = 1,61$"
   ]
  },
  {
   "cell_type": "code",
   "execution_count": 33,
   "metadata": {},
   "outputs": [
    {
     "name": "stdout",
     "output_type": "stream",
     "text": [
      "C: 0.8287956720280742\n"
     ]
    }
   ],
   "source": [
    "Q2 = 1.61\n",
    "K2 = 3.1622\n",
    "\n",
    "a = (1 - K2) * Q2\n",
    "b = -1\n",
    "c = 2*Q2\n",
    "\n",
    "raices = np.roots([a, b, c])\n",
    "\n",
    "# Nos quedamos con el resultado positivo ya que es el que tiene sentido para determinar el valor del capacitor\n",
    "for raiz in raices:\n",
    "    if raiz > 0:\n",
    "        print(f'C: {raiz}')"
   ]
  },
  {
   "cell_type": "markdown",
   "metadata": {},
   "source": [
    "Para la etapa 1:\n",
    "\n",
    "* $R_1 = R_2 = R_3 = R = 1$\n",
    "* $R_4 = K - 1 = 2,16$\n",
    "* $C_1 = \\frac{1}{C} = 1,51$\n",
    "* $C_2 = C = 0,66$\n",
    "\n",
    "Para la etapa 2:\n",
    "\n",
    "* $R_1 = R_2 = R_3 = R = 1$\n",
    "* $R_4 = K - 1 = 2,16$\n",
    "* $C_1 = \\frac{1}{C} = 1,22$\n",
    "* $C_2 = C = 0,82$\n"
   ]
  },
  {
   "cell_type": "code",
   "execution_count": 35,
   "metadata": {},
   "outputs": [
    {
     "name": "stdout",
     "output_type": "stream",
     "text": [
      "Etapa 1 - R1: 1000\n",
      "Etapa 1 - R2: 1000\n",
      "Etapa 1 - R3: 1000\n",
      "Etapa 1 - R4: 2160.0\n",
      "Etapa 1 - C1: 1.8475673074182684e-07\n",
      "Etapa 1 - C2: 8.075459754278526e-08\n",
      "\n",
      "\n",
      "Etapa 2 - R1: 1000\n",
      "Etapa 2 - R2: 1000\n",
      "Etapa 2 - R3: 1000\n",
      "Etapa 2 - R4: 2160.0\n",
      "Etapa 2 - C1: 1.492736500033303e-07\n",
      "Etapa 2 - C2: 1.0033146967436954e-07\n"
     ]
    }
   ],
   "source": [
    "# Desnormalizamos los componentes\n",
    "fc = 1000\n",
    "Ww = 2*np.pi*fc\n",
    "We = e**(-1/4)\n",
    "Wz = 1000\n",
    "\n",
    "# Etapa 1\n",
    "R11_n = 1\n",
    "R12_n = 1\n",
    "R13_n = 1\n",
    "R14_n = 2.16\n",
    "C11_n = 1.51\n",
    "C12_n = 0.66\n",
    "\n",
    "R11_dn = R11_n * Wz\n",
    "R12_dn = R12_n * Wz\n",
    "R13_dn = R13_n * Wz\n",
    "R14_dn = R14_n * Wz\n",
    "C11_dn = C11_n / (Ww * Wz * We)\n",
    "C12_dn = C12_n / (Ww * Wz * We)\n",
    "\n",
    "print(f'Etapa 1 - R1: {R11_dn}')\n",
    "print(f'Etapa 1 - R2: {R12_dn}')\n",
    "print(f'Etapa 1 - R3: {R13_dn}')\n",
    "print(f'Etapa 1 - R4: {R14_dn}')\n",
    "print(f'Etapa 1 - C1: {C11_dn}')\n",
    "print(f'Etapa 1 - C2: {C12_dn}')\n",
    "\n",
    "\n",
    "# Etapa 2\n",
    "R21_n = 1\n",
    "R22_n = 1\n",
    "R23_n = 1\n",
    "R24_n = 2.16\n",
    "C21_n = 1.22\n",
    "C22_n = 0.82\n",
    "\n",
    "R21_dn = R21_n * Wz\n",
    "R22_dn = R22_n * Wz\n",
    "R23_dn = R23_n * Wz\n",
    "R24_dn = R24_n * Wz\n",
    "C21_dn = C21_n / (Ww * Wz * We)\n",
    "C22_dn = C22_n / (Ww * Wz * We)\n",
    "\n",
    "print('\\n')\n",
    "print(f'Etapa 2 - R1: {R21_dn}')\n",
    "print(f'Etapa 2 - R2: {R22_dn}')\n",
    "print(f'Etapa 2 - R3: {R23_dn}')\n",
    "print(f'Etapa 2 - R4: {R24_dn}')\n",
    "print(f'Etapa 2 - C1: {C21_dn}')\n",
    "print(f'Etapa 2 - C2: {C22_dn}')"
   ]
  },
  {
   "cell_type": "markdown",
   "metadata": {},
   "source": [
    "Para la etapa de primer orden, podemos utilizar un circuito pasivo RC. Donde $R = 1$ y $C = 1$:"
   ]
  },
  {
   "cell_type": "code",
   "execution_count": 36,
   "metadata": {},
   "outputs": [
    {
     "name": "stdout",
     "output_type": "stream",
     "text": [
      "Etapa orden 1 - R: 1000\n",
      "Etapa orden 1 - C: 1.223554508224019e-07\n"
     ]
    }
   ],
   "source": [
    "# Etapa orden 1\n",
    "\n",
    "R_n = 1\n",
    "C_n = 1\n",
    "\n",
    "R_dn = R_n * Wz\n",
    "C_dn = C_n / (Ww*Wz*We)\n",
    "\n",
    "print(f'Etapa orden 1 - R: {R_dn}')\n",
    "print(f'Etapa orden 1 - C: {C_dn}')"
   ]
  },
  {
   "cell_type": "markdown",
   "metadata": {},
   "source": [
    "## Simulación\n",
    "\n",
    "Circuito simulado en 2 etapas con estructuras SK:\n",
    "\n",
    "![Circuito_activado](img/ej2_circuito_desnormalizado.JPG)\n",
    "\n",
    "![Transferencia](img/ej2_transferencia_desnormalizada.JPG)\n",
    "\n",
    "Al medir con los cursores, se puede observar que el filtro cumple con la ganancia en la banda de paso, pero no cumple exactamente con la atenuación mínima en la banda de stop.\n",
    "\n",
    "![Cursores](img/ej2_transferencia_zoom.JPG)\n"
   ]
  },
  {
   "cell_type": "markdown",
   "metadata": {},
   "source": [
    "Donde dice $-18,29dB$ debería decir $-20dB$ o menos para cumplir con la atenuación que pide la plantilla"
   ]
  }
 ],
 "metadata": {
  "interpreter": {
   "hash": "6ca364f2759a5aafb09686aa9324eacc5d501526362630bb6a990b46351437c4"
  },
  "kernelspec": {
   "display_name": "Python 3.9.7 ('base')",
   "language": "python",
   "name": "python3"
  },
  "language_info": {
   "codemirror_mode": {
    "name": "ipython",
    "version": 3
   },
   "file_extension": ".py",
   "mimetype": "text/x-python",
   "name": "python",
   "nbconvert_exporter": "python",
   "pygments_lexer": "ipython3",
   "version": "3.9.7"
  },
  "orig_nbformat": 4
 },
 "nbformat": 4,
 "nbformat_minor": 2
}
