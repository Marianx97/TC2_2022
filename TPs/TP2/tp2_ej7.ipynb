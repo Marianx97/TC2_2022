{
 "cells": [
  {
   "cell_type": "code",
   "execution_count": 3,
   "metadata": {},
   "outputs": [],
   "source": [
    "import matplotlib.pyplot as plt\n",
    "import scipy.signal as sig\n",
    "from splane import analyze_sys\n",
    "\n",
    "num = [0.094, 0, 0, 0]\n",
    "den = [1, 0.9, 3.4025, 1.89, 3.4045, 0.9, 1]\n",
    "\n",
    "transfer_f = sig.TransferFunction(num, den)\n",
    "\n",
    "plt.close('all')\n",
    "%matplotlib qt\n",
    "analyze_sys(transfer_f, 'Transferencia')"
   ]
  },
  {
   "cell_type": "code",
   "execution_count": 4,
   "metadata": {},
   "outputs": [
    {
     "name": "stdout",
     "output_type": "stream",
     "text": [
      "[-0.13397178+1.2057415j  -0.13397178-1.2057415j  -0.09102822+0.81925088j\n",
      " -0.09102822-0.81925088j]\n"
     ]
    }
   ],
   "source": [
    "import numpy as np\n",
    "\n",
    "#           6   5  4  3  2  1  0\n",
    "# den = [-0.9952, 0, 0, 0, 0, 0, 1]\n",
    "den = [1, 0.45, 2.2, 0.45, 1]\n",
    "raices = np.roots(den)\n",
    "print(raices)\n",
    "# for raiz in raices:\n",
    "#     if np.real(raiz) < 0:\n",
    "#         print(raiz)"
   ]
  }
 ],
 "metadata": {
  "kernelspec": {
   "display_name": "Python 3.9.7 ('base')",
   "language": "python",
   "name": "python3"
  },
  "language_info": {
   "codemirror_mode": {
    "name": "ipython",
    "version": 3
   },
   "file_extension": ".py",
   "mimetype": "text/x-python",
   "name": "python",
   "nbconvert_exporter": "python",
   "pygments_lexer": "ipython3",
   "version": "3.9.7"
  },
  "orig_nbformat": 4,
  "vscode": {
   "interpreter": {
    "hash": "6ca364f2759a5aafb09686aa9324eacc5d501526362630bb6a990b46351437c4"
   }
  }
 },
 "nbformat": 4,
 "nbformat_minor": 2
}
