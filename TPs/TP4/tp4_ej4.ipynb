{
 "cells": [
  {
   "cell_type": "markdown",
   "metadata": {},
   "source": [
    "# TP4 - Ejercicio 4\n",
    "\n",
    "Aplique MAI para obtener la $Z_{AB}$ de la siguiente red y verifique mediante otro método.\n",
    "\n",
    "![red_consigna](img/ej4_red.JPG)\n"
   ]
  },
  {
   "cell_type": "markdown",
   "metadata": {},
   "source": [
    "## Resolución\n",
    "\n",
    "Planteando los nodos como se muestra en la imagen, se pueden determinar las siguientes ecuaciones:\n",
    "\n",
    "* $Y_{00} = \\frac{1}{s.L_1} + s.C_1$\n",
    "* $Y_{11} = \\frac{1}{s.L_1} + \\frac{1}{s.L_2} + \\frac{1}{s.L_3}$\n",
    "* $Y_{22} = \\frac{1}{s.L_2} + s.C_2$\n",
    "* $Y_{33} = \\frac{1}{s.L_3} + s.C_1 + s.C_2$\n",
    "\n",
    "A partir de estas ecuaciones, se puede deducir la matriz MAI:\n",
    "\n",
    "$Y_{MAI} = \\begin{bmatrix} \\frac{1}{s.L_1} + s.C_1 & -\\frac{1}{s.L_1} & 0 & -s.C_1 \\\\\n",
    "-\\frac{1}{s.L_1} & \\frac{1}{s.L_1} + \\frac{1}{s.L_2} + \\frac{1}{s.L_3} & -\\frac{1}{s.L_2} & -\\frac{1}{s.L_3} \\\\\n",
    "0 & -\\frac{1}{s.L_2} & \\frac{1}{s.L_2} + s.C_2 & -s.C_2 \\\\\n",
    "-s.C_1 & -\\frac{1}{s.L_3} & -s.C_2 & \\frac{1}{s.L_3} + s.C_1 + s.C_2 \\end{bmatrix}$"
   ]
  },
  {
   "cell_type": "markdown",
   "metadata": {},
   "source": [
    "$Y_{MAI} = \\begin{bmatrix}\n",
    "\\frac{1}{2.s} + s & -\\frac{1}{2.s} & 0                 & -s \\\\\n",
    "-\\frac{1}{2.s}    &  \\frac{4}{3.s} & -\\frac{1}{2.s}    & -\\frac{1}{3.s} \\\\\n",
    "0                 & -\\frac{1}{2.s} & \\frac{1}{2.s} + s & -s \\\\\n",
    "-s                & -\\frac{1}{3.s} & -s                & \\frac{1}{3.s} + 2.s\n",
    "\\end{bmatrix}$"
   ]
  },
  {
   "cell_type": "markdown",
   "metadata": {},
   "source": [
    "$Z_{AB} = Z_{02} = \\frac{Y_{02}^{02}}{Y_0^0}$\n",
    "\n",
    "$Y_{02}^{02} = \\frac{4}{3.s} . (2.s+\\frac{1}{3.s}) - \\frac{1}{9.s^2}$\n",
    "\n",
    "$Y_{02}^{02} = \\frac{8}{3} + \\frac{4}{9.s^2} - \\frac{1}{9.s^2}$\n",
    "\n",
    "$Y_{02}^{02} = \\frac{8}{3} + \\frac{1}{3.s^2}$\n",
    "\n",
    "$Y_{02}^{02} = \\frac{8.s^2+1}{3.s^2}$"
   ]
  },
  {
   "cell_type": "markdown",
   "metadata": {},
   "source": [
    "Para hallar $Y_0^0$ debemos calcular los cofactores de la matriz:\n",
    "\n",
    "$\\begin{bmatrix}\n",
    " \\frac{4}{3.s} & -\\frac{1}{2.s}    & -\\frac{1}{3.s} \\\\\n",
    "-\\frac{1}{2.s} & \\frac{1}{2.s} + s & -s \\\\\n",
    "-\\frac{1}{3.s} & -s                & \\frac{1}{3.s} + 2.s\n",
    "\\end{bmatrix}$"
   ]
  },
  {
   "cell_type": "markdown",
   "metadata": {},
   "source": [
    "$A = \\frac{4}{3.s} . ((s+\\frac{1}{2.s}).(2.s+\\frac{1}{3.s})-s^2)$\n",
    "\n",
    "$A = \\frac{4}{3.s} . (2.s^2+\\frac{1}{3}+1+\\frac{1}{6.s^2}-s^2)$\n",
    "\n",
    "$A = \\frac{4}{3.s} . (s^2+\\frac{4}{3}+\\frac{1}{6.s^2})$\n",
    "\n",
    "$A = \\frac{4.s}{3} + \\frac{16}{9.s} + \\frac{2}{9.s^3}$"
   ]
  },
  {
   "cell_type": "markdown",
   "metadata": {},
   "source": [
    "$B = (-1).(-\\frac{1}{2.s}).((-\\frac{1}{2.s}).(2.s+\\frac{1}{3.s})-(-s).(-\\frac{1}{3.s}))$\n",
    "\n",
    "$B = \\frac{1}{2.s}.((-1)-\\frac{1}{6.s^2}-\\frac{1}{3})$\n",
    "\n",
    "$B = \\frac{1}{2.s}.(-\\frac{4}{3}-\\frac{1}{6.s^2})$\n",
    "\n",
    "$B = -\\frac{2}{3.s}-\\frac{1}{12.s^3}$"
   ]
  },
  {
   "cell_type": "markdown",
   "metadata": {},
   "source": [
    "$C = -\\frac{1}{3.s}.((-\\frac{1}{2.s}).(-s)-(s+\\frac{1}{2.s}).(-\\frac{1}{3.s}))$\n",
    "\n",
    "$C = -\\frac{1}{3.s}.(\\frac{1}{2}+\\frac{1}{3}+\\frac{1}{6.s^2})$\n",
    "\n",
    "$C = -\\frac{1}{3.s}.(\\frac{5}{6}+\\frac{1}{6.s^2})$\n",
    "\n",
    "$C = -\\frac{5}{18.s}-\\frac{1}{18.s^3}$"
   ]
  },
  {
   "cell_type": "markdown",
   "metadata": {},
   "source": [
    "Finalmente:\n",
    "\n",
    "$Y_0^0 = A + B + C$\n",
    "\n",
    "$Y_0^0 = \\frac{4.s}{3} + \\frac{16}{9.s} + \\frac{2}{9.s^3} -\\frac{2}{3.s} - \\frac{1}{12.s^3} -\\frac{5}{18.s} - \\frac{1}{18.s^3}$\n",
    "\n",
    "$Y_0^0 = \\frac{16.s^4+10.s^2+1}{12.s^3}$"
   ]
  },
  {
   "cell_type": "markdown",
   "metadata": {},
   "source": [
    "$Z_{02} = \\frac{Y_{02}^{02}}{Y_0^0} = \\frac{\\frac{8.s^2+1}{3.s^2}}{\\frac{16.s^4+10.s^2+1}{12.s^3}}$\n",
    "\n",
    "$Z_{02} = \\frac{12.s^3}{3.s^2} . \\frac{8.s^2+1}{16.s^4+10.s^2+1}$\n",
    "\n",
    "Factorizando el denominador:\n",
    "\n",
    "$Z_{02} = 4.s . \\frac{8.s^2+1}{(8.s^2+1).(2.s^2+1)}$\n",
    "\n",
    "$Z_{02} = \\frac{4.s}{2.s^2+1}$"
   ]
  },
  {
   "cell_type": "code",
   "execution_count": 12,
   "metadata": {},
   "outputs": [
    {
     "data": {
      "text/latex": [
       "$\\displaystyle  [Y_{MAI}] = \\left[\\begin{matrix}s + \\frac{1}{2 s} & - \\frac{1}{2 s} & 0 & - s\\\\- \\frac{1}{2 s} & \\frac{4}{3 s} & - \\frac{1}{2 s} & - \\frac{1}{3 s}\\\\0 & - \\frac{1}{2 s} & s + \\frac{1}{2 s} & - s\\\\- s & - \\frac{1}{3 s} & - s & 2 s + \\frac{1}{3 s}\\end{matrix}\\right]$"
      ],
      "text/plain": [
       "<IPython.core.display.Math object>"
      ]
     },
     "metadata": {},
     "output_type": "display_data"
    },
    {
     "data": {
      "text/latex": [
       "$\\displaystyle  [Y^{ 00 }_{ 22 } ] = \\left[\\begin{matrix}\\frac{4}{3 s} & - \\frac{1}{3 s}\\\\- \\frac{1}{3 s} & 2 s + \\frac{1}{3 s}\\end{matrix}\\right]$"
      ],
      "text/plain": [
       "<IPython.core.display.Math object>"
      ]
     },
     "metadata": {},
     "output_type": "display_data"
    },
    {
     "data": {
      "text/latex": [
       "$\\displaystyle [Y^{ 0 }_{ 0 }] = \\left[\\begin{matrix}\\frac{4}{3 s} & - \\frac{1}{2 s} & - \\frac{1}{3 s}\\\\- \\frac{1}{2 s} & s + \\frac{1}{2 s} & - s\\\\- \\frac{1}{3 s} & - s & 2 s + \\frac{1}{3 s}\\end{matrix}\\right]$"
      ],
      "text/plain": [
       "<IPython.core.display.Math object>"
      ]
     },
     "metadata": {},
     "output_type": "display_data"
    },
    {
     "data": {
      "text/latex": [
       "$\\displaystyle Z_{ 02 } = \\frac{ \\underline{Y}^{ 00 }_{ 22 } }{ \\underline{Y}^{ 0 }_{ 0 } } = \\frac{4 s}{2 s^{2} + 1}$"
      ],
      "text/plain": [
       "<IPython.core.display.Math object>"
      ]
     },
     "metadata": {},
     "output_type": "display_data"
    },
    {
     "data": {
      "text/latex": [
       "$\\displaystyle Z_{ 02 } = \\frac{4 s}{2 s^{2} + 1}$"
      ],
      "text/plain": [
       "<IPython.core.display.Math object>"
      ]
     },
     "metadata": {},
     "output_type": "display_data"
    }
   ],
   "source": [
    "# Verificación\n",
    "\n",
    "import sympy as sp\n",
    "from splane import print_latex, calc_MAI_impedance_ij\n",
    "\n",
    "# 0--·---------\n",
    "#    |        |\n",
    "#   YL1      YC1\n",
    "#    |        |\n",
    "# 1--·--YL3---·--3\n",
    "#    |        |\n",
    "#   YL2      YC2\n",
    "#    |        |\n",
    "# 2--·---------\n",
    "\n",
    "s = sp.symbols('s', complex=True)\n",
    "# Armo la MAI\n",
    "\n",
    "Ymai = sp.Matrix([\n",
    "    [ 1/(s*2)+s ,    -1/(s*2)   ,    0      ,     -s     ],\n",
    "    [ -1/(s*2)  , 1/(s)+1/(s*3) , -1/(s*2)  , -1/(s*3)   ],\n",
    "    [    0      ,    -1/(s*2)   , 1/(s*2)+s ,     -s     ],\n",
    "    [   -s      ,    -1/(s*3)   ,   -s      , 1/(s*3)+2*s]\n",
    "])\n",
    "\n",
    "con_detalles = True\n",
    "\n",
    "Zmai = calc_MAI_impedance_ij(Ymai, 0, 2, verbose=con_detalles)\n",
    "\n",
    "print_latex(r'Z_{{ {:d}{:d} }} = '.format(0,2) + sp.latex(Zmai))"
   ]
  }
 ],
 "metadata": {
  "kernelspec": {
   "display_name": "Python 3.9.7 ('base')",
   "language": "python",
   "name": "python3"
  },
  "language_info": {
   "codemirror_mode": {
    "name": "ipython",
    "version": 3
   },
   "file_extension": ".py",
   "mimetype": "text/x-python",
   "name": "python",
   "nbconvert_exporter": "python",
   "pygments_lexer": "ipython3",
   "version": "3.9.7"
  },
  "orig_nbformat": 4,
  "vscode": {
   "interpreter": {
    "hash": "6ca364f2759a5aafb09686aa9324eacc5d501526362630bb6a990b46351437c4"
   }
  }
 },
 "nbformat": 4,
 "nbformat_minor": 2
}
