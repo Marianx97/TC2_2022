{
 "cells": [
  {
   "cell_type": "markdown",
   "metadata": {},
   "source": [
    "# TP4 - Ejercicio 2\n",
    "\n",
    "Transforme el cuadripolo balanceado en uno equivalente T-puenteado desbalanceado.\n",
    "\n",
    "![\"consigna\"](img/ej2_consigna.JPG)\n"
   ]
  },
  {
   "cell_type": "markdown",
   "metadata": {},
   "source": [
    "## Resolución\n",
    "\n",
    "Primero se plantean los parámetros $Z$ del cuadripolo T-puenteado:\n",
    "\n",
    "![\"T_puenteado_analisis\"](img/ej2_T_puenteado_analisis.JPG)\n",
    "\n",
    "* $Z_{11} = \\frac{V_1}{I_1}|_{I_2 = 0}$\n",
    "\n",
    "* $Z_{12} = \\frac{V_1}{I_2}|_{I_1 = 0}$\n",
    "\n",
    "* $Z_{21} = \\frac{V_2}{I_1}|_{I_2 = 0}$\n",
    "\n",
    "* $Z_{22} = \\frac{V_2}{I_2}|_{I_1 = 0}$"
   ]
  },
  {
   "cell_type": "markdown",
   "metadata": {},
   "source": [
    "Para el parámetro $Z_{11}$ al hacer que $I_2 = 0$, se puede observar que las impedancias $Z_2$ y $Z_3$ quedan en serie y, a su vez, la resultante queda en paralelo con $Z_1$. El resultante de este paralelo queda en serie con $Z_4$.\n",
    "\n",
    "Finalmente, se puede expresar:\n",
    "\n",
    "$Z_{11} = \\frac{Z_1 . (Z_2 + Z_3)}{Z_1 + Z_2 + Z_3} + Z_4$"
   ]
  },
  {
   "cell_type": "markdown",
   "metadata": {},
   "source": [
    "Análogamente, para el parámetro $Z_{22}$:\n",
    "\n",
    "$Z_{22} = \\frac{Z_3 . (Z_2 + Z_1)}{Z_1 + Z_2 + Z_3} + Z_4$"
   ]
  },
  {
   "cell_type": "markdown",
   "metadata": {},
   "source": [
    "Para el parámetro $Z_{12}$, considerando $I_1 = 0$, se puede interpretar el circuito de la siguiente manera:\n",
    "\n",
    "![\"red_z_12\"](img/ej2_red_z_12.JPG)\n",
    "\n",
    "Planteando un divisor de corrientes para averiguar la corriente que circula por $Z_1$ se obtiene que:\n",
    "\n",
    "$I_a = I_2 . \\frac{Z_3}{Z_1 + Z_2 + Z_3}$\n",
    "\n",
    "$V_1 = I_a . Z_1 + I_2 . Z_4 = I_2 . \\frac{Z_1 . Z_3}{Z_1 + Z_2 + Z_3} + I_2 . Z_4$\n",
    "\n",
    "$V_1 = I_2 . (\\frac{Z_1 . Z_3}{Z_1 + Z_2 + Z_3} + Z_4)$\n",
    "\n",
    "Finalmente:\n",
    "\n",
    "$Z_{12} = \\frac{V_1}{I_2} = \\frac{Z_1 . Z_3}{Z_1 + Z_2 + Z_3} + Z_4$"
   ]
  },
  {
   "cell_type": "markdown",
   "metadata": {},
   "source": [
    "Para el parámetro $Z_{21}$, considerando $I_2 = 0$, se puede hacer un planteo análogo al anterior:\n",
    "\n",
    "![\"red_z_21\"](img/ej2_red_z_21.JPG)\n",
    "\n",
    "$I_b = I_1 . \\frac{Z_1}{Z_1 + Z_2 + Z_3}$\n",
    "\n",
    "$V_2 = I_b . Z_3 + I_1 . Z_4 = I_1 . \\frac{Z_1 . Z_3}{Z_1 + Z_2 + Z_3} + I_1 . Z_4$\n",
    "\n",
    "$V_2 = I_1 . (\\frac{Z_1 . Z_3}{Z_1 + Z_2 + Z_3} + Z_4)$\n",
    "\n",
    "Finalmente:\n",
    "\n",
    "$Z_{21} = \\frac{V_2}{I_1} = \\frac{Z_1 . Z_3}{Z_1 + Z_2 + Z_3} + Z_4$\n",
    "\n",
    "A su vez, esto comprueba que la red es recíproca por ser pasiva, ya que $Z_{12} = Z_{21}$"
   ]
  },
  {
   "cell_type": "markdown",
   "metadata": {},
   "source": [
    "Los parámetros $Z$ del curadripolo T-puenteado son:\n",
    "\n",
    "$Z = \\begin{bmatrix}\\frac{Z_1 . (Z_2 + Z_3)}{Z_1 + Z_2 + Z_3} + Z_4 & \\frac{Z_1 . Z_3}{Z_1 + Z_2 + Z_3} + Z_4 \\\\ \\frac{Z_1 . Z_3}{Z_1 + Z_2 + Z_3} + Z_4 & \\frac{Z_3 . (Z_2 + Z_1)}{Z_1 + Z_2 + Z_3} + Z_4 \\end{bmatrix}$"
   ]
  },
  {
   "cell_type": "markdown",
   "metadata": {},
   "source": [
    "Conociendo la red de parámetros $Z$ del cuadripolo Lattice simétrico, hallada en el ejercicio anterior, se sabe que:\n",
    "\n",
    "$Z = \\begin{bmatrix} \\frac{Z_A+Z_B}{2} & \\frac{Z_B - Z_A}{2} \\\\ \\frac{Z_B - Z_A}{2} & \\frac{Z_A+Z_B}{2}\\end{bmatrix}$\n",
    "\n",
    "Reemplazando con los valores de la consigna:\n",
    "\n",
    "* $Z_A = \\frac{1}{4}$\n",
    "* $Z_B = \\frac{1}{3}$\n",
    "\n",
    "$Z = \\begin{bmatrix} \\frac{7}{24} & \\frac{1}{24} \\\\ \\frac{1}{24} & \\frac{7}{24}\\end{bmatrix}$"
   ]
  },
  {
   "cell_type": "markdown",
   "metadata": {},
   "source": [
    "Al igualar las matrices, queda el siguiente sistema:\n",
    "\n",
    "$\\frac{7}{24} = \\frac{Z_1 . (Z_2 + Z_3)}{Z_1 + Z_2 + Z_3} + Z_4$\n",
    "\n",
    "$\\frac{1}{24} = \\frac{Z_1 . Z_3}{Z_1 + Z_2 + Z_3} + Z_4$\n",
    "\n",
    "$\\frac{1}{24} = \\frac{Z_1 . Z_3}{Z_1 + Z_2 + Z_3} + Z_4$\n",
    "\n",
    "$\\frac{7}{24} = \\frac{Z_3 . (Z_2 + Z_1)}{Z_1 + Z_2 + Z_3} + Z_4$\n",
    "\n",
    "Planteando que:\n",
    "\n",
    "- $Z_1 = Z_3 = Z_\\alpha$\n",
    "- $Z_2 = Z_4 = Z_\\beta$\n",
    "\n",
    "Se transforma en un sistema de 2 ecuaciones con 2 incógnitas:\n",
    "\n",
    "$\\frac{7}{24} = \\frac{Z_\\alpha . Z_\\beta + Z_\\alpha^2}{Z_\\beta + 2. Z_\\alpha} + Z_\\beta$\n",
    "\n",
    "$\\frac{1}{24} = \\frac{Z_\\alpha^2}{Z_\\beta + 2. Z_\\alpha} + Z_\\beta$\n"
   ]
  }
 ],
 "metadata": {
  "kernelspec": {
   "display_name": "Python 3.9.7 ('base')",
   "language": "python",
   "name": "python3"
  },
  "language_info": {
   "name": "python",
   "version": "3.9.7"
  },
  "orig_nbformat": 4,
  "vscode": {
   "interpreter": {
    "hash": "6ca364f2759a5aafb09686aa9324eacc5d501526362630bb6a990b46351437c4"
   }
  }
 },
 "nbformat": 4,
 "nbformat_minor": 2
}
