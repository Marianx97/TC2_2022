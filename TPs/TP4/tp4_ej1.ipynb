{
 "cells": [
  {
   "cell_type": "markdown",
   "metadata": {},
   "source": [
    "# TP4 - Ejercicio 1\n",
    "\n",
    "Obtenga un solo juego de parámetros de cuadripolo ( $Z$, $Y$, $T$ ) de las siguientes redes.\n",
    "\n",
    "a)\n",
    "\n",
    "![\"ej1_red_a\"](img/ej1_red_a.JPG)\n",
    "\n",
    "b)\n",
    "\n",
    "![\"ej1_red_b\"](img/ej1_red_b.JPG)\n",
    "\n",
    "c)\n",
    "\n",
    "![\"ej1_red_c\"](img/ej1_red_c.JPG)"
   ]
  },
  {
   "cell_type": "markdown",
   "metadata": {},
   "source": [
    "## Resolución\n",
    "\n",
    "a) Buscamos los parámetros $T$\n",
    "\n",
    "Observando el circuito:\n",
    "* Se pueden asociar $C_1$ y $L_1$ que se encuentran en paralelo. \n",
    "* Se pueden asociar $C_3$ y $L_2$ que se encuentran en paralelo y el resultado en serie con $C_2$\n",
    "\n",
    "Finalmente, la red quedaría con una topología L invertida:\n",
    "\n",
    "![\"red_L_invertida\"](img/ej1_red_L_invertida.JPG)\n",
    "\n",
    "Donde:\n",
    "\n",
    "$Y = s . C_1 + \\frac{1}{s . L_1}$\n",
    "\n",
    "$Y = \\frac{s^2 . L_1 . C_1 + 1}{s . L_1}$\n",
    "\n",
    "$Y = \\frac{s^2 . 0,5 + 1}{s . 0,5}$\n",
    "\n",
    "$Z = \\frac{1}{s . C_2} + \\frac{1}{\\frac{1}{s . L_2} + s . C_3}$\n",
    "\n",
    "$Z = \\frac{1}{s . C_2} + \\frac{s . L_2}{s^2 . L_2 . C_3 + 1}$\n",
    "\n",
    "$ Z = \\frac{s^2 . L_2 . C_3 + 1 + s^2 . L_2 . C_2}{s^3 . L_2 . C_2 . C_3 + s . C_2} $\n",
    "\n",
    "$ Z = \\frac{s^2 . L_2 . (C_2 + C_3) + 1}{s^3 . L_2 . C_2 . C_3 + s . C_2} $"
   ]
  },
  {
   "cell_type": "markdown",
   "metadata": {},
   "source": [
    "$ Z = \\frac{s^2 . 0,25 . (2 + 2) + 1}{s^3 . 0,25 . 2 . 2 + s . 2} $\n",
    "\n",
    "$ Z = \\frac{s^2 + 1}{s^3 + s . 2} $"
   ]
  },
  {
   "cell_type": "markdown",
   "metadata": {},
   "source": [
    "Las ecuaciones para hallar los parámetros $T$ son:\n",
    "\n",
    "* $ V_1 = A . V_2 + B . (-I_2)$\n",
    "* $ I_1 = C . V_2 + D . (-I_2)$\n",
    "\n",
    "De las cuales podemos expresar que:\n",
    "\n",
    "* $ A = \\frac{V_1}{V_2}|_{(-I_2) = 0}$\n",
    "\n",
    "* $ B = \\frac{V_1}{(-I_2)}|_{V_2 = 0}$\n",
    "\n",
    "* $ C = \\frac{I_1}{V_2}|_{(-I_2) = 0}$\n",
    "\n",
    "* $ D = \\frac{I_1}{(-I_2)}|_{V_2 = 0}$"
   ]
  },
  {
   "cell_type": "markdown",
   "metadata": {},
   "source": [
    "Cuando $(-I_2) = 0$ no circula corriente por $Z$, por lo tanto:\n",
    "\n",
    "$V_1 = V_2$.\n",
    "\n",
    "Entonces:\n",
    "\n",
    "$A = 1$.\n",
    "\n",
    "Cuando $V_2 = 0$ la corriente que circula por $Z$ se expresa como:\n",
    "\n",
    "$(-I_2) = \\frac{V_1}{Z}$\n",
    "\n",
    "Entonces:\n",
    "\n",
    "$B = \\frac{V_1}{(-I_2)} = \\frac{V_1}{\\frac{V_1}{Z}}$\n",
    "\n",
    "$B = Z$\n",
    "\n",
    "Cuando $(-I_2) = 0$ y $V_1 = V_2$:\n",
    "\n",
    "$C = \\frac{I_1}{V_2} = \\frac{I_1}{V_1}$\n",
    "\n",
    "$C = Y$\n",
    "\n",
    "Cuando $V_2 = 0$ podemos plantear un divisor de corrientes, tal que:\n",
    "\n",
    "$(-I_2) = I_1 . \\frac{\\frac{1}{Y}}{Z+\\frac{1}{Y}}$\n",
    "\n",
    "$D = \\frac{I_1}{(-I_2)}$\n",
    "\n",
    "$D = 1 + Z . Y$"
   ]
  },
  {
   "cell_type": "markdown",
   "metadata": {},
   "source": [
    "Armando la matriz T:\n",
    "\n",
    "$T = \\begin{bmatrix} A & B \\\\ C & D \\end{bmatrix} $\n",
    "\n",
    "$T = \\begin{bmatrix} 1 & Z \\\\ Y & (1+Z.Y) \\end{bmatrix} $\n"
   ]
  },
  {
   "cell_type": "markdown",
   "metadata": {},
   "source": [
    "b) Buscamos los parámetros $T$\n",
    "\n",
    "Considerando a $C_1$ y $L_1$ como un cuadripolo L-invertida y a $C_2$ y $L_2$ como otro cuadripolo L-invertida, podemos considerar al cuadripolo total como una asociación en cascada de estos. Por lo tanto, considerando esta asociación en cascada, podemos expresar que:\n",
    "\n",
    "$T = T_a . T_b$\n",
    "\n",
    "Siendo:\n",
    "\n",
    "$T_a = \\begin{bmatrix} A_a & B_a \\\\ C_a & D_a\\end{bmatrix}$\n",
    "\n",
    "$T_b = \\begin{bmatrix} A_b & B_b \\\\ C_b & D_b\\end{bmatrix}$\n",
    "\n",
    "Habiendo deducido en el item anterior la matriz $T$ del cuadripolo L-invertida, sabemos que:\n",
    "\n",
    "$T_a = \\begin{bmatrix} 1 & Z_1 \\\\ Y_1 & (1+Z_1.Y_1)\\end{bmatrix}$\n",
    "\n",
    "$T_b = \\begin{bmatrix} 1 & Z_2 \\\\ Y_2 & (1+Z_2.Y_2)\\end{bmatrix}$\n",
    "\n",
    "Donde:\n",
    "\n",
    "* $Z_1 = S . L_1$\n",
    "* $Y_1 = S . C_1$\n",
    "* $Z_2 = S . L_2$\n",
    "* $Y_2 = S . C_2$\n",
    "\n",
    "Finalmente:\n",
    "\n",
    "$T = \\begin{bmatrix} 1 & Z_1 \\\\ Y_1 & (1+Z_1.Y_1)\\end{bmatrix} . \\begin{bmatrix} 1 & Z_2 \\\\ Y_2 & (1+Z_2.Y_2)\\end{bmatrix}$"
   ]
  },
  {
   "cell_type": "markdown",
   "metadata": {},
   "source": [
    "$T = \\begin{bmatrix} A_T & B_T \\\\ C_T & D_T\\end{bmatrix}$\n",
    "\n",
    "* $ A_T = 1 + Z_1 . Y_2$\n",
    "* $ B_T = Z_2 + Z_1 + Z_1 . Z_2 . Y_2$\n",
    "* $ C_T = Y_1 + Y_2 + Z_1 . Y_1 . Y_2$\n",
    "* $ D_T = Z_2 . Y_1 + 1 + Z_2 . Y_2 + Z_1 . Y_1 + Z_1 . Z_2 . Y_1 . Y_2$"
   ]
  },
  {
   "cell_type": "markdown",
   "metadata": {},
   "source": [
    "c) Buscamos hallar los parámetros $Z$\n",
    "\n",
    "Podemos interpretar el circuito de la siguiente manera:\n",
    "\n",
    "![\"Lattice_simetrico_generico\"](img/ej1_red_lattice_simetrica.JPG)\n",
    "\n",
    "Donde:\n",
    "\n",
    "* $L_1$ está representado por la impedancia $Z_1$\n",
    "* $L_2$ en serie con $C_1$ componen la impedancia $Z_2$\n",
    "* El circuito es simétrico, ya que $L_1 = L_4$ y $L_2$ en serie con $C_1$ es equivalente a $L_3$ en serie con $C_2$\n",
    "\n",
    "Los parámetros $Z$ se calculan partiendo de las expresiones:\n",
    "\n",
    "* $V_1 = Z_{11} . I_1 + Z_{12} . I_2$\n",
    "* $V_2 = Z_{12} . I_1 + Z_{22} . I_2$\n",
    "\n",
    "Donde:\n",
    "\n",
    "* $Z_{11} = \\frac{V_1}{I_1}|_{I_2 = 0}$\n",
    "\n",
    "* $Z_{12} = \\frac{V_1}{I_2}|_{I_1 = 0}$\n",
    "\n",
    "* $Z_{21} = \\frac{V_2}{I_1}|_{I_2 = 0}$\n",
    "\n",
    "* $Z_{22} = \\frac{V_2}{I_2}|_{I_1 = 0}$"
   ]
  },
  {
   "cell_type": "markdown",
   "metadata": {},
   "source": [
    "Cuando $I_2 = 0$, $Z_1$ queda en serie con $Z_2$ y ambas ramas quedan en paralelo, por lo tanto:\n",
    "\n",
    "$Z_{11} = \\frac{V_1}{I_1} = \\frac{Z_1+Z_2}{2}$\n",
    "\n",
    "Para hallar $Z_{21}$ se puede considerar $V_2$ como la resta entre dos divisores de tensión:\n",
    "\n",
    "$V_2 = (V_1 . \\frac{Z_2}{Z_1 + Z_2}) - (V_1 . \\frac{Z_1}{Z_1 + Z_2})$\n",
    "\n",
    "$V_2 = V_1 . \\frac{Z_2 - Z_1}{Z_1 + Z_2}$\n",
    "\n",
    "Como la condición de medición para $Z_{21}$ es $I_2 = 0$, se puede asumir que:\n",
    "\n",
    "$I_1 = \\frac{V_1}{Z_{11}}$\n",
    "\n",
    "Entonces se puede plantear:\n",
    "\n",
    "$Z_{21} = \\frac{V_2}{I_1} = \\frac{V_1 . \\frac{Z_2 - Z_1}{Z_1 + Z_2}}{\\frac{V_1}{Z_{11}}}$\n",
    "\n",
    "$Z_{21} = \\frac{Z_2 - Z_1}{Z_1 + Z_2} . Z_{11} = \\frac{Z_2 - Z_1}{Z_1 + Z_2} . \\frac{Z_1+Z_2}{2}$\n",
    "\n",
    "Finalmente:\n",
    "\n",
    "$Z_{21} = \\frac{Z_2 - Z_1}{2}$"
   ]
  },
  {
   "cell_type": "markdown",
   "metadata": {},
   "source": [
    "Como la red es pasiva, y por lo tanto recíproca y además es simétrica, la red de parámetros $Z$ queda:\n",
    "\n",
    "$Z = \\begin{bmatrix} \\frac{Z_1+Z_2}{2} & \\frac{Z_2 - Z_1}{2} \\\\ \\frac{Z_2 - Z_1}{2} & \\frac{Z_1+Z_2}{2}\\end{bmatrix}$\n",
    "\n",
    "Donde:\n",
    "* $Z_1 = S . L_1$\n",
    "* $Z_2 = S . L_2 + \\frac{1}{S . C_1}$"
   ]
  }
 ],
 "metadata": {
  "kernelspec": {
   "display_name": "Python 3.9.7 ('base')",
   "language": "python",
   "name": "python3"
  },
  "language_info": {
   "name": "python",
   "version": "3.9.7"
  },
  "orig_nbformat": 4,
  "vscode": {
   "interpreter": {
    "hash": "6ca364f2759a5aafb09686aa9324eacc5d501526362630bb6a990b46351437c4"
   }
  }
 },
 "nbformat": 4,
 "nbformat_minor": 2
}
