{
 "cells": [
  {
   "cell_type": "markdown",
   "metadata": {},
   "source": [
    "# TP4 - Ejercicio 3\n",
    "\n",
    "Dada la siguiente matriz T obtener los componentes del cuadripolo lattice que la satisfagan. Observación: Considere el cuadripolo pasivo y simétrico.\n",
    "\n",
    "$[T] = \\begin{bmatrix} s^2+1 & B \\\\ s & D \\end{bmatrix}$\n",
    "\n",
    "![Circuito_lattice_simetrico](img/ej3_red_lattice.JPG)"
   ]
  },
  {
   "cell_type": "markdown",
   "metadata": {},
   "source": [
    "## Resolución\n",
    "\n",
    "Conociendo la matriz $T$ del cuadripolo Lattice:\n",
    "\n",
    "$T = \\begin{bmatrix} \\frac{Z_A+Z_B}{Z_B-Z_A} & \\frac{2.Z_A.Z_B}{Z_B-Z_A}\\\\ \\frac{2}{Z_B-Z_A} & \\frac{Z_A+Z_B}{Z_B-Z_A}\\end{bmatrix}$\n",
    "\n",
    "Al igualar con la matriz de la consigna, queda el siguiente sistema de ecuaciones:\n",
    "\n",
    "$\\frac{Z_A+Z_B}{Z_B-Z_A} = s^2+1$\n",
    "\n",
    "$\\frac{2}{Z_B-Z_A} = s$\n",
    "\n",
    "Despejando de la segunda ecuación:\n",
    "\n",
    "$\\frac{2}{s} + Z_A = Z_B$\n",
    "\n",
    "Reemplazando en la primera:\n",
    "\n",
    "$\\frac{Z_A+\\frac{2}{s} + Z_A}{\\frac{2}{s} + Z_A-Z_A} = s^2+1$\n",
    "\n",
    "$\\frac{2.(\\frac{1}{s}+Z_A)}{\\frac{2}{s}} = s^2+1$\n",
    "\n",
    "$1+s.Z_A=s^2+1$\n",
    "\n",
    "$Z_A = 1.s$\n",
    "\n",
    "$Z_B = \\frac{1}{\\frac{1}{2} . s} + 1 . s$\n"
   ]
  },
  {
   "cell_type": "markdown",
   "metadata": {},
   "source": [
    "La impedancia $Z_A$ puede interpretarse como un inductor de valor unitario y la impedancia $Z_B$ como una asociación serie entre un inductor de valor unitario y un capacitor con valor de $0,5$\n",
    "\n",
    "![red_lattice_propuesta](img/ej3_red_propuesta.JPG)"
   ]
  }
 ],
 "metadata": {
  "kernelspec": {
   "display_name": "Python 3.9.7 ('base')",
   "language": "python",
   "name": "python3"
  },
  "language_info": {
   "name": "python",
   "version": "3.9.7"
  },
  "orig_nbformat": 4,
  "vscode": {
   "interpreter": {
    "hash": "6ca364f2759a5aafb09686aa9324eacc5d501526362630bb6a990b46351437c4"
   }
  }
 },
 "nbformat": 4,
 "nbformat_minor": 2
}
