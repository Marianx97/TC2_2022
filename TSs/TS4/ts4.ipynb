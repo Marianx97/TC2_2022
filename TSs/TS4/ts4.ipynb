{
 "cells": [
  {
   "cell_type": "markdown",
   "metadata": {},
   "source": [
    "## TS4\n",
    "\n",
    "Se pide diseñar un filtro pasabanda que cumpla con la siguiente plantilla:\n",
    "\n",
    "* $\\omega_0 = 2\\pi 22 KHz$\n",
    "* $Q = 5$\n",
    "* Aproximación Chebyshev con ripple de $0,5 dB$\n",
    "\n",
    "También se sabe que la transferencia del filtro debe ser:\n",
    "\n",
    "* $T(f_{s1}) = -16 dB$ para $f_{s1} = 17 KHz$\n",
    "* $T(f_{s2}) = -24 dB$ para $f_{s2} = 36 KHz$\n",
    "\n",
    "![Plantilla](img/plantilla_original.JPG)\n",
    "\n",
    "Consignas de la actividad:\n",
    "\n",
    "* Obtener la plantilla de diseño pasabanda normalizada.\n",
    "* Obtener la función transferencia normalizada del prototipo pasabajo que satisfaga el requerimiento del filtro pasabanda.\n",
    "* Obtener la transferencia pasabanda normalizada.\n",
    "* Implementar mediante secciones pasivas separadas por seguidores de tensión activos.\n",
    "* Activar las redes pasivas mediante la red propuesta aquí debajo y comprobar mediante simulación el comportamiento deseado.\n",
    "\n",
    "![Red_Propuesta](img/red_activa.JPG)"
   ]
  },
  {
   "cell_type": "markdown",
   "metadata": {},
   "source": [
    "### Resolución\n",
    "\n",
    "Para poder tener la plantilla completa, debo hallar los valores de $f_{p1}$ y $f_{p2}$.\n",
    "\n",
    "$f_{p2} - f_{p1} = \\frac{f_0}{Q}$\n",
    "\n",
    "$f_{p2} - f_{p1} = \\frac{22000}{5}$\n",
    "\n",
    "$f_{p2} - f_{p1} = 4400$\n",
    "\n",
    "$f_{p2} = f_{p1} + 4400$\n",
    "\n",
    "$f_0^2 = f_{p1} . f_{p2}$\n",
    "\n",
    "$f_0^2 = f_{p1} . (f_{p1} + 4400)$\n",
    "\n",
    "$f_0^2 = f_{p1}^2 + f_{p1} . 4400$\n",
    "\n",
    "$0 = f_{p1}^2 + f_{p1} . 4400 - f_0^2$\n",
    "\n",
    "Al resolver esta expresión cuadrática, obtenemos 2 resultados:\n",
    "\n",
    "$f_{p1} = 19909,72$\n",
    "\n",
    "$f_{p1} = -24309,72$\n",
    "\n",
    "Nos quedamos con el resultado positivo y luego reemplazamos para hallar $f_{p2}$\n",
    "\n",
    "$f_{p2} = f_{p1} + 4400 = 24309,72$\n",
    "\n",
    "Finalmente:\n",
    "\n",
    "* $f_{p1} = 19909,72$ \n",
    "* $f_{p2} = 24309,72$\n",
    "\n",
    "La plantilla de diseño del pasabanda queda:\n",
    "\n",
    "<div><img src=\"img/plantilla_BP_completa.jpeg\" width=\"500\"/></div>\n",
    "\n",
    "Tomo como norma de frecuencia $\\Omega_\\omega = \\omega_0 = 2\\pi f_0$\n",
    "\n",
    "* $\\omega_{s1} = \\frac{2\\pi f_{s1}}{2\\pi f_0} = \\frac{f_{s1}}{f_0} = 0,7727$\n",
    "* $\\omega_{p1} = \\frac{2\\pi f_{p1}}{2\\pi f_0} = \\frac{f_{p1}}{f_0} = 0,9049$\n",
    "* $\\omega_0 = \\frac{2\\pi f_0}{2\\pi f_0} = 1 $\n",
    "* $\\omega_{p2} = \\frac{2\\pi f_{p2}}{2\\pi f_0} = \\frac{f_{p2}}{f_0} = 1,1049$\n",
    "* $\\omega_{s2} = \\frac{2\\pi f_{s2}}{2\\pi f_0} = \\frac{f_{s2}}{f_0} = 1,6363$\n",
    "\n",
    "<div><img src=\"img/plantilla_BP_completa_normalizada.jpeg\" width=\"500\"/></div>\n"
   ]
  },
  {
   "cell_type": "markdown",
   "metadata": {},
   "source": [
    "Utilizando la función de transformación pasa-banda a pasa-bajos, se obtienen los siguientes valores de frecuencia.\n",
    "\n",
    "$\\Omega = Q . \\frac{\\omega-\\omega_o}{\\omega}$\n",
    "\n",
    "* $\\Omega_{s1} = -2,6073$\n",
    "* $\\Omega_{p1} = -1,0009$\n",
    "* $\\Omega_0 = 0$\n",
    "* $\\Omega_{p2} = 0,9992$\n",
    "* $\\Omega_{s2} = 5,1258$\n",
    "\n",
    "Esto supone 2 casos posibles para las plantillas pasa-bajos prototipos:\n",
    "\n",
    "* Una plantilla con $\\Omega_p = 1$, $\\Omega_s = 2,61$ y $\\alpha_{min} = 16dB$\n",
    "* Una plantilla con $\\Omega_p = 1$, $\\Omega_s = 5,13$ y $\\alpha_{min} = 24dB$\n",
    "\n",
    "Para ambas plantillas $\\alpha_{max} = 0,5dB$\n",
    "\n",
    "Se debe analizar cuál de las 2 plantillas es más exigente (requiere un n mayor). De esta manera, al elegir el caso más exigente, se puede asegurar que se cumpliran los requisitos con respecto a ambas bandas de paso.\n",
    "\n",
    "$\\epsilon^2$ será el mismo para ambos casos y se calcula como:\n",
    "\n",
    "$\\epsilon^2 = 10^{\\frac{\\alpha_{max}}{10}}-1$"
   ]
  },
  {
   "cell_type": "code",
   "execution_count": 7,
   "metadata": {},
   "outputs": [
    {
     "name": "stdout",
     "output_type": "stream",
     "text": [
      "ee = 0.12201845430196334\n"
     ]
    }
   ],
   "source": [
    "alpha_max = 0.5\n",
    "ee = 10**(alpha_max/10) - 1\n",
    "print(f'ee = {ee}')"
   ]
  },
  {
   "cell_type": "markdown",
   "metadata": {},
   "source": [
    "$\\epsilon^2 = 0,122$"
   ]
  },
  {
   "cell_type": "markdown",
   "metadata": {},
   "source": [
    "Para calcular el orden, se debe utilizar la función de aproximación de Chebyshev:\n",
    "\n",
    "$|T(j\\Omega)|^2=\\frac{1}{1 + \\epsilon^2 . C_n^2(\\Omega)}$\n",
    "\n",
    "$\\alpha_{dB} = 10 . log(1 + \\epsilon^2 . C_n^2(\\Omega))$\n",
    "\n",
    "$C_n(\\Omega) = cosh(n . cosh^{-1}(\\Omega))$"
   ]
  },
  {
   "cell_type": "code",
   "execution_count": 13,
   "metadata": {},
   "outputs": [
    {
     "name": "stdout",
     "output_type": "stream",
     "text": [
      "para n = 1: alpha = 2.6270641778663686\n",
      "para n = 2: alpha = 13.105487059697724\n",
      "para n = 3: alpha = 26.898948574906406\n",
      "para n = 4: alpha = 40.90541198432991\n"
     ]
    }
   ],
   "source": [
    "# Iteramos para el caso Omega_stop = 2.61 alpha_min = 16dB\n",
    "\n",
    "Ws = 2.61\n",
    "for n in range(1,5):\n",
    "    Cn = np.cosh(n * np.arccosh(Ws))\n",
    "    alpha = 10 * np.log10(1 + ee*(Cn**2))\n",
    "    print(f'para n = {n}: alpha = {alpha}')"
   ]
  },
  {
   "cell_type": "markdown",
   "metadata": {},
   "source": [
    "Para esta plantilla, se puede observar que con $n = 3$ se cumple el requisito de $\\alpha_{min}$"
   ]
  },
  {
   "cell_type": "code",
   "execution_count": 19,
   "metadata": {},
   "outputs": [
    {
     "name": "stdout",
     "output_type": "stream",
     "text": [
      "para n = 1: alpha = 6.243503603249784\n",
      "para n = 2: alpha = 25.135611894132488\n",
      "para n = 3: alpha = 45.260836223596726\n",
      "para n = 4: alpha = 65.3999338669196\n"
     ]
    }
   ],
   "source": [
    "# Iteramos para el caso Omega_stop = 5.13 alpha_min = 24dB\n",
    "\n",
    "Ws = 5.13\n",
    "for n in range(1,5):\n",
    "    Cn = np.cosh(n * np.arccosh(Ws))\n",
    "    alpha = 10 * np.log10(1 + ee*(Cn**2))\n",
    "    print(f'para n = {n}: alpha = {alpha}')"
   ]
  },
  {
   "cell_type": "markdown",
   "metadata": {},
   "source": [
    "Para esta plantilla, se puede observar que con $n = 2$ se cumple el requisito de $\\alpha_{min}$"
   ]
  },
  {
   "cell_type": "markdown",
   "metadata": {},
   "source": [
    "Con el criterio de elegir la plantilla más exigente (mayor orden), se debe elegir la siguiente plantilla para diseñar el filtro pasa-bajos prototipo.\n",
    "\n",
    "<div><img src=\"img/plantilla_LP_completa_normalizada.jpeg\" width=\"500\"/></div>\n",
    "\n",
    "El polinomio de Chebyshev también se puede expresar en su forma recursiva:\n",
    "\n",
    "$C_n(\\Omega) = 2.\\Omega.C_{n-1} - C_{n-2}$\n",
    "\n",
    "Con $C_0 = 1$ y $C_1 = \\Omega$\n",
    "\n",
    "Para $n = 3$:\n",
    "\n",
    "$C_0 = 1$\n",
    "\n",
    "$C_1 = \\Omega$\n",
    "\n",
    "$C_2 = 2.\\Omega.\\Omega - 1 = 2.\\Omega^2-1$\n",
    "\n",
    "$C_3 = 2.\\Omega.(2.\\Omega^2 - 1) - \\Omega = 4\\Omega^3 - 3 \\Omega$\n",
    "\n",
    "El módulo de la transferencia al cuadrado queda:\n",
    "\n",
    "$|T(j\\Omega)|^2 = \\frac{1}{1 + \\epsilon^2 . C_3^2}$\n",
    "\n",
    "$|T(j\\Omega)|^2 = \\frac{1}{1 + \\epsilon^2 . (4\\Omega^3 - 3 \\Omega)^2}$\n",
    "\n",
    "$|T(j\\Omega)|^2 = \\frac{1}{1 + \\epsilon^2 . (16\\Omega^6-24\\Omega^4+9\\Omega^2)}$\n",
    "\n",
    "Considerando que $\\Omega = \\frac{S}{j}$ y teniendo en cuenta que:\n",
    "\n",
    "* $j^6 = -1$\n",
    "* $j^4 = 1$\n",
    "* $j^2 = -1$\n",
    "\n",
    "La expresión queda:\n",
    "\n",
    "$|T(j\\Omega)|^2 = \\frac{1}{1 + \\epsilon^2 . (-16S^6-24S^4-9S^2)}$\n",
    "\n",
    "$|T(j\\Omega)|^2 = \\frac{1}{-\\epsilon^2 16 S^6 -\\epsilon^2 24 S^4-\\epsilon^2 9 S^2 + 1}$\n",
    "\n",
    "Usando python, se calculan las raíces del denominador para hallar los polos."
   ]
  },
  {
   "cell_type": "code",
   "execution_count": 25,
   "metadata": {},
   "outputs": [
    {
     "name": "stdout",
     "output_type": "stream",
     "text": [
      "(-0.31324228480518584+1.0219404028464278j)\n",
      "(-0.31324228480518584-1.0219404028464278j)\n",
      "(-0.6264845696103722+0j)\n"
     ]
    }
   ],
   "source": [
    "import numpy as np\n",
    "\n",
    "den = [(-ee*16), 0, (-ee*24), 0, (-ee*9), 0, 1]\n",
    "polos = np.roots(den)\n",
    "\n",
    "# Nos quedamos con los polos cuya parte real es negativa para armar el sistema\n",
    "for polo in polos:\n",
    "    if polo.real < 0:\n",
    "        print(polo)"
   ]
  },
  {
   "cell_type": "markdown",
   "metadata": {},
   "source": [
    "Utilizando estos polos, se puede expresar la transferencia como un sistema de primer orden y uno de segundo orden, cuyo denominador esté conformado por el polinomio resultante del producto entre los polos complejos conjugados.\n",
    "\n",
    "Transferencia del pasa-bajos prototipo normalizada:\n",
    "\n",
    "$T(S) = \\sqrt{\\epsilon^2 . 16} . \\frac{1}{S + 0,6264} . \\frac{1}{S^2 + S . 0,6264 + 1,1424}$"
   ]
  },
  {
   "cell_type": "markdown",
   "metadata": {},
   "source": [
    "Para pasar a la expresión del pasa-banda, se utiliza la función de transformación:\n",
    "\n",
    "$S = Q . \\frac{s^2+1}{s}$\n",
    "\n",
    "$T(s) = \\sqrt{\\epsilon^2 . 16} . \\frac{1}{(Q . \\frac{s^2+1}{s}) + 0,6264} . \\frac{1}{(Q . \\frac{s^2+1}{s})^2 + (Q . \\frac{s^2+1}{s}) . 0,6264 + 1,1424}$\n",
    "\n",
    "$T(s) = \\sqrt{\\epsilon^2 . 16} . \\frac{\\frac{1}{Q} . s}{s^2 + s . \\frac{0,6264}{Q} + 1} . \\frac{\\frac{1}{Q^2} . s^2}{s^4 + s^3 . \\frac{0,6264}{Q} + s^2 . (2+\\frac{1,1424}{Q^2}) + s . \\frac{0,6264}{Q} + 1}$\n",
    "\n",
    "$T(s) = (\\sqrt{\\epsilon^2 . 16} . \\frac{1}{Q} . \\frac{1}{Q^2}) . \\frac{s}{s^2 + s . 0,1253 + 1} . \\frac{s^2}{s^4 + s^3 . 0,1253 + s^2 . 2,0457 + s . 0,1253 + 1}$\n",
    "\n",
    "Si se calculan las raices del polinomio de orden 4 del denominador, luego se pueden agrupar como 2 pares de polos complejos conjugados que conforman 2 polinomios de orden 2."
   ]
  },
  {
   "cell_type": "code",
   "execution_count": 35,
   "metadata": {},
   "outputs": [
    {
     "name": "stdout",
     "output_type": "stream",
     "text": [
      "(-0.03451119183153373+1.1069197963899677j)\n",
      "(-0.03451119183153373-1.1069197963899677j)\n",
      "(-0.028138808168466454+0.9025305170722862j)\n",
      "(-0.028138808168466454-0.9025305170722862j)\n"
     ]
    }
   ],
   "source": [
    "den = [1, 0.1253, 2.0457, 0.1253, 1]\n",
    "polos = np.roots(den)\n",
    "\n",
    "for polo in polos:\n",
    "    print(polo)"
   ]
  },
  {
   "cell_type": "markdown",
   "metadata": {},
   "source": [
    "La transferecia del pasa-banda normalizada queda de la siguiente manera:\n",
    "\n",
    "$T(s) = (\\sqrt{\\epsilon^2 . 16} . \\frac{1}{Q} . \\frac{1}{Q^2}) . \\frac{s}{s^2 + s . 0,1253 + 1} . \\frac{s}{s^2 + s . 0,069 + 1,2264} . \\frac{s}{s^2 + s . 0,0562 + 0,8153}$"
   ]
  },
  {
   "cell_type": "markdown",
   "metadata": {},
   "source": [
    "Se puede expresar la transferencia del pasa banda de segundo orden con la siguiente expresión:\n",
    "\n",
    "$T_{BP}(s) = \\frac{\\frac{\\omega_0}{Q} . s}{s^2 + s . \\frac{\\omega_0}{Q} + \\omega_0^2}$\n",
    "\n",
    "Utilizando la siguiente red de componentes pasivos, se llega a la expresión:\n",
    "\n",
    "![Red_RLC_BP_pasiva](img/red_pasiva_rlc.JPG)\n",
    "\n",
    "$T(s) = \\frac{\\frac{1}{R . C} . s}{s^2 + s . \\frac{1}{R . C} + \\frac{1}{L . C}}$\n",
    "\n",
    "Quedan determinadas las siguientes relaciones:\n",
    "\n",
    "$\\omega_0^2 = \\frac{1}{L . C}$\n",
    "\n",
    "$\\frac{\\omega_0}{Q} = \\frac{1}{R . C}$"
   ]
  },
  {
   "cell_type": "markdown",
   "metadata": {},
   "source": [
    "Asumiendo que $C_1 = C_2 = C_3 = 1$ y analizando cada una de las etapas:\n",
    "\n",
    "Etapa 1:\n",
    "\n",
    "${\\omega_0}_1^2 = 1$\n",
    "\n",
    "${\\omega_0}_1 = 1$\n",
    "\n",
    "$\\frac{{\\omega_0}_1}{Q_1} = 0,1253$\n",
    "\n",
    "$Q_1 = \\frac{1}{0,1253} = 7,98$\n",
    "\n",
    "$K_1 . \\frac{{\\omega_0}_1}{Q_1} = 1$\n",
    "\n",
    "$K_1 = \\frac{1}{0,1253} = 7,98$\n",
    "\n",
    "$\\frac{7,98 . (0,1253) . s}{s^2+ s . 0,1253 + 1}$\n",
    "\n",
    "Para los componentes:\n",
    "\n",
    "${\\omega_0}_1^2 = 1 = \\frac{1}{L_1 . C_1}$\n",
    "\n",
    "$C_1 = 1$ por ende $L_1 = 1$\n",
    "\n",
    "$\\frac{{\\omega_0}_1}{Q_1} = 0,1253 = \\frac{1}{R_1 . C_1}$\n",
    "\n",
    "$C_1 = 1$ por ende $R_1 = \\frac{1}{0,1253} = 7,98$\n",
    "\n",
    "Etapa 2:\n",
    "\n",
    "${\\omega_0}_2^2 = 1,2264$\n",
    "\n",
    "${\\omega_0}_2 = 1,1074$\n",
    "\n",
    "$\\frac{{\\omega_0}_2}{Q_2} = 0,069$\n",
    "\n",
    "$Q_2 = \\frac{1,1074}{0,069} = 16,05$\n",
    "\n",
    "$K_2 . \\frac{{\\omega_0}_2}{Q_2} = 1$\n",
    "\n",
    "$K_2 = \\frac{1}{0,069} = 14,5$\n",
    "\n",
    "$\\frac{14,5 . (0,069) . s}{s^2+ s . 0,069 + (1,1074)^2}$\n",
    "\n",
    "Para los componentes:\n",
    "\n",
    "${\\omega_0}_2^2 = 1,2264 = \\frac{1}{L_2 . C_2}$\n",
    "\n",
    "$C_2 = 1$ por ende $L_2 = \\frac{1}{1,2264} = 0,8154$\n",
    "\n",
    "$\\frac{{\\omega_0}_2}{Q_2} = 0,069 = \\frac{1}{R_2 . C_2}$\n",
    "\n",
    "$C_2 = 1$ por ende $R_2 = \\frac{1}{0,069} = 14,5$\n",
    "\n",
    "Etapa 3:\n",
    "\n",
    "${\\omega_0}_3^2 = 0,8153$\n",
    "\n",
    "${\\omega_0}_3 = 0,9029$\n",
    "\n",
    "$\\frac{{\\omega_0}_3}{Q_3} = 0,0562$\n",
    "\n",
    "$Q_3 = \\frac{0,9029}{0,0562} = 16,05$\n",
    "\n",
    "$K_3 . \\frac{{\\omega_0}_3}{Q_3} = 1$\n",
    "\n",
    "$K_3 = \\frac{1}{0,0562} = 17,8$\n",
    "\n",
    "$\\frac{17,8 . (0,0562) . s}{s^2+ s . 0,0562 + (0,9029)^2}$\n",
    "\n",
    "Para los componentes:\n",
    "\n",
    "${\\omega_0}_3^2 = 0,8153 = \\frac{1}{L_3 . C_3}$\n",
    "\n",
    "$C_3 = 1$ por ende $L_3 = \\frac{1}{0,8153} = 1,2265$\n",
    "\n",
    "$\\frac{{\\omega_0}_3}{Q_3} = 0,0562 = \\frac{1}{R_3 . C_3}$\n",
    "\n",
    "$C_3 = 1$ por ende $R_3 = \\frac{1}{0,0562} = 17,8$\n"
   ]
  },
  {
   "cell_type": "markdown",
   "metadata": {},
   "source": [
    "Arreglando la expresión de la transferencia queda:\n",
    "\n",
    "$T(s) = (\\sqrt{\\epsilon^2 . 16} . \\frac{1}{Q} . \\frac{1}{Q^2}) . \\frac{7,98 . (0,1253) . s}{s^2+ s . 0,1253 + 1} . \\frac{14,5 . (0,069) . s}{s^2+ s . 0,069 + (1,1074)^2} . \\frac{17,8 . (0,0562) . s}{s^2+ s . 0,0562 + (0,9029)^2}$\n",
    "\n",
    "Agrupando todas las ganancias en una sola variable $K$ queda:\n",
    "\n",
    "$T(s) = (\\sqrt{\\epsilon^2 . 16} . \\frac{1}{Q} . \\frac{1}{Q^2} . 7,98 . 14,5 . 17,8) . \\frac{(0,1253) . s}{s^2+ s . 0,1253 + 1} . \\frac{(0,069) . s}{s^2+ s . 0,069 + (1,1074)^2} . \\frac{(0,0562) . s}{s^2+ s . 0,0562 + (0,9029)^2}$\n",
    "\n",
    "$T(s) = K . \\frac{(0,1253) . s}{s^2+ s . 0,1253 + 1} . \\frac{(0,069) . s}{s^2+ s . 0,069 + (1,1074)^2} . \\frac{(0,0562) . s}{s^2+ s . 0,0562 + (0,9029)^2}$"
   ]
  },
  {
   "cell_type": "code",
   "execution_count": 40,
   "metadata": {},
   "outputs": [
    {
     "name": "stdout",
     "output_type": "stream",
     "text": [
      "K = 23.02082002350796\n"
     ]
    }
   ],
   "source": [
    "Q = 5\n",
    "K1 = 7.98\n",
    "K2 = 14.5\n",
    "K3 = 17.8\n",
    "\n",
    "K = np.sqrt(ee*16) * (1/Q) * (1/Q**2) * K1 * K2 * K3\n",
    "\n",
    "print(f'K = {K}')"
   ]
  },
  {
   "cell_type": "markdown",
   "metadata": {},
   "source": [
    "$T(s) = 23,02 . \\frac{(0,1253) . s}{s^2+ s . 0,1253 + 1} . \\frac{(0,069) . s}{s^2+ s . 0,069 + (1,1074)^2} . \\frac{(0,0562) . s}{s^2+ s . 0,0562 + (0,9029)^2}$"
   ]
  },
  {
   "cell_type": "code",
   "execution_count": 42,
   "metadata": {},
   "outputs": [
    {
     "data": {
      "image/png": "[encoded data removed]",
      "text/plain": [
       "<Figure size 432x288 with 2 Axes>"
      ]
     },
     "metadata": {
      "needs_background": "light"
     },
     "output_type": "display_data"
    },
    {
     "data": {
      "image/png": "[encoded data removed]",
      "text/plain": [
       "<Figure size 432x288 with 1 Axes>"
      ]
     },
     "metadata": {
      "needs_background": "light"
     },
     "output_type": "display_data"
    },
    {
     "data": {
      "image/png": "[encoded data removed]",
      "text/plain": [
       "<Figure size 432x288 with 1 Axes>"
      ]
     },
     "metadata": {
      "needs_background": "light"
     },
     "output_type": "display_data"
    }
   ],
   "source": [
    "import matplotlib.pyplot as plt\n",
    "import scipy.signal as sig\n",
    "import numpy as np\n",
    "from splane import analyze_sys\n",
    "\n",
    "num = [0.0111, 0, 0, 0]\n",
    "den = [1, 0.2504, 3.0612, 0.5065, 3.0612, 0.2504, 1]\n",
    "\n",
    "transfer_f = sig.TransferFunction(num, den)\n",
    "\n",
    "plt.close('all')\n",
    "analyze_sys(transfer_f, 'Transferencia')\n"
   ]
  },
  {
   "cell_type": "markdown",
   "metadata": {},
   "source": [
    "### Simulación circuital desnormalizada\n",
    "\n",
    "Nuestra norma de frecuencia era: $\\Omega_\\omega = 2\\pi . f_0 = 2\\pi . 22KHz$\n",
    "\n",
    "Elegimos una norma de impedancia arbitraria: $\\Omega_Z = 1K\\Omega$"
   ]
  },
  {
   "cell_type": "code",
   "execution_count": 44,
   "metadata": {},
   "outputs": [
    {
     "name": "stdout",
     "output_type": "stream",
     "text": [
      "C1: 7.2343155950861536e-09\n",
      "C2: 7.2343155950861536e-09\n",
      "C3: 7.2343155950861536e-09\n",
      "L1: 0.007234315595086153\n",
      "L2: 0.005898860936233249\n",
      "L3: 0.008872888077373166\n",
      "R1: 7980.0\n",
      "R2: 14500.0\n",
      "R3: 17800.0\n"
     ]
    }
   ],
   "source": [
    "f0 = 22000\n",
    "Ww = 2*np.pi*f0\n",
    "Wz = 1000\n",
    "\n",
    "C1_n = 1\n",
    "C2_n = 1\n",
    "C3_n = 1\n",
    "L1_n = 1\n",
    "L2_n = 0.8154\n",
    "L3_n = 1.2265\n",
    "R1_n = 7.98\n",
    "R2_n = 14.5\n",
    "R3_n = 17.8\n",
    "\n",
    "C1_dn = C1_n / (Ww * Wz)\n",
    "C2_dn = C2_n / (Ww * Wz)\n",
    "C3_dn = C3_n / (Ww * Wz)\n",
    "L1_dn = (L1_n * Wz) / Ww\n",
    "L2_dn = (L2_n * Wz) / Ww\n",
    "L3_dn = (L3_n * Wz) / Ww\n",
    "R1_dn = R1_n * Wz\n",
    "R2_dn = R2_n * Wz\n",
    "R3_dn = R3_n * Wz\n",
    "\n",
    "print(f'C1: {C1_dn}')\n",
    "print(f'C2: {C2_dn}')\n",
    "print(f'C3: {C3_dn}')\n",
    "print(f'L1: {L1_dn}')\n",
    "print(f'L2: {L2_dn}')\n",
    "print(f'L3: {L3_dn}')\n",
    "print(f'R1: {R1_dn}')\n",
    "print(f'R2: {R2_dn}')\n",
    "print(f'R3: {R3_dn}')\n"
   ]
  },
  {
   "cell_type": "markdown",
   "metadata": {},
   "source": [
    "Se puede observar en el circuito que se añadió un amplificador operacional en configuración NO INVERSOR que aporta el valor de la ganancia K que se detalla en la ecuación de la transferencia.\n",
    "\n",
    "![Circuito_desnormalizado](img/circuito_desnormalizado.JPG)\n",
    "\n",
    "![Transferencia_desnormalizada](img/transferencia_desnormalizada.JPG)\n",
    "\n",
    "![Transferencia_desnormalizada_cursores](img/transferencia_desnormalizada_cursores.JPG)"
   ]
  },
  {
   "cell_type": "markdown",
   "metadata": {},
   "source": [
    "### Simulación circuital desnormalizada activada\n",
    "\n",
    "![Circuito_desnormalizado_activado](img/circuito_desnormalizado_activado.JPG)\n",
    "\n",
    "![Transferencia_desnormalizada_activada](img/transferencia_desnormalizada_activada.JPG)\n",
    "\n",
    "![Transferencia_desnormalizada_activada_cursores](img/transferencia_desnormalizada_activada_cursores.JPG)"
   ]
  }
 ],
 "metadata": {
  "interpreter": {
   "hash": "6ca364f2759a5aafb09686aa9324eacc5d501526362630bb6a990b46351437c4"
  },
  "kernelspec": {
   "display_name": "Python 3.9.7 ('base')",
   "language": "python",
   "name": "python3"
  },
  "language_info": {
   "codemirror_mode": {
    "name": "ipython",
    "version": 3
   },
   "file_extension": ".py",
   "mimetype": "text/x-python",
   "name": "python",
   "nbconvert_exporter": "python",
   "pygments_lexer": "ipython3",
   "version": "3.9.7"
  },
  "orig_nbformat": 4
 },
 "nbformat": 4,
 "nbformat_minor": 2
}
