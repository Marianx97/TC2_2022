{
 "cells": [
  {
   "cell_type": "markdown",
   "metadata": {},
   "source": [
    "## TS3 - TP2 Ejercicio 4\n",
    "\n",
    "A partir de la siguiente plantilla, sabiendo que:\n",
    "\n",
    "![Plantilla](img/plantilla_original.JPG)\n",
    "\n",
    "$\\alpha_{Máx} = 1 dB$\n",
    "\n",
    "$\\alpha_{Min} = 35 dB$\n",
    "\n",
    "$f_p = 3500 Hz$\n",
    "\n",
    "$f_s = 1000 Hz$\n",
    "\n",
    "* Obtener polos y ceros para máxima planicidad en la banda de paso.\n",
    "* Implementar el circuito con estructuras pasivas adaptadas mediante buffers.\n",
    "* Utilizando una norma de impedancia $\\Omega_Z = 1K\\Omega$, obtenga el valor de los componentes.\n",
    "* Active las bobinas utilizando una estructura con OPAMPs."
   ]
  },
  {
   "cell_type": "markdown",
   "metadata": {},
   "source": [
    "Primero debemos transformar la plantilla del pasa-altos a una plantilla para el pasa-bajos prototipo, que es el filtro que sabemos trabajar. Además, normalizamos la plantilla en frecuencia, tomando como norma de frecuencia $\\Omega_{\\omega} = 2\\pi f_p$\n",
    "\n",
    "<div><img src=\"img/plantilla_transformada.jpeg\" width=\"500\"/></div>"
   ]
  },
  {
   "cell_type": "markdown",
   "metadata": {},
   "source": [
    "A continuación, planteamos la función de aproximación por máxima planicidad para el pasabajos:\n",
    "\n",
    "$|T_{(j\\Omega)}|^2=\\frac{1}{1+\\epsilon^2 . \\Omega^{2 . n}}$\n",
    "\n",
    "Llamamos $\\Omega$ a la frecuencia para el prototipo pasa-bajos y $\\omega$ a la frecuencia para el pasa-altos\n",
    "\n",
    "Despejamos el $\\epsilon$ como:\n",
    "\n",
    "$\\epsilon^2 = 10^{\\frac{\\alpha_{Máx}}{10}}-1$"
   ]
  },
  {
   "cell_type": "code",
   "execution_count": 4,
   "metadata": {},
   "outputs": [
    {
     "name": "stdout",
     "output_type": "stream",
     "text": [
      "ee = 0.2589254117941673\n",
      "e = 0.5088471399095875\n"
     ]
    }
   ],
   "source": [
    "import numpy as np\n",
    "alpha_max = 1\n",
    "ee = 10**(alpha_max/10)-1\n",
    "e = np.sqrt(ee)\n",
    "print(f'ee = {ee}')\n",
    "print(f'e = {e}')"
   ]
  },
  {
   "cell_type": "markdown",
   "metadata": {},
   "source": [
    "Luego podemos hallar n (el orden del filtro) iterando en la ecuación:\n",
    "\n",
    "$\\alpha = 10 . log(1 + \\epsilon^2 . \\Omega_s^{2.n})$"
   ]
  },
  {
   "cell_type": "code",
   "execution_count": 6,
   "metadata": {},
   "outputs": [
    {
     "name": "stdout",
     "output_type": "stream",
     "text": [
      "para n = 1: alpha = 6.203272580959268\n",
      "para n = 2: alpha = 16.004827547031187\n",
      "para n = 3: alpha = 26.784944183800718\n",
      "para n = 4: alpha = 37.657935084281895\n",
      "para n = 5: alpha = 48.53861199438661\n"
     ]
    }
   ],
   "source": [
    "Ws = 3.5\n",
    "for n in range(1,6):\n",
    "    alpha = 10 * np.log10(1+ee*Ws**(2*n))\n",
    "    print(f'para n = {n}: alpha = {alpha}')"
   ]
  },
  {
   "cell_type": "markdown",
   "metadata": {},
   "source": [
    "Nos quedamos con $n = 4$ que es el menor orden que cumple con la condición de $\\alpha_{Mín}$"
   ]
  },
  {
   "cell_type": "markdown",
   "metadata": {},
   "source": [
    "Aplicamos una renormalización para poder trabajar el filtro con la función de aproximación de Butterworth.\n",
    "\n",
    "$|T_{(j\\Omega)}|^2=\\frac{1}{1+\\epsilon^2 . \\Omega^{2 . n}}$\n",
    "\n",
    "$|T_{(j\\omega)}|^2=\\frac{1}{1+\\epsilon^2 . (\\frac{\\Omega_{\\omega}}{\\omega})^{2 . n}}$\n",
    "\n",
    "Importante: no confundir $\\Omega_\\omega$ que es la norma de frecuencia con $\\Omega$ que es la variable de la función transformada.\n",
    "\n",
    "Para obtener $\\omega_b$ debe considerarse $\\epsilon^{\\frac{1}{n}}$ para el pasa altos, a diferencia del pasabajos donde debíamos hacer $\\epsilon^{\\frac{-1}{n}}$.\n",
    "\n",
    "A partir de acá, se puede tratar la función como una aproximación de Butterworth. Los polos serán 2 pares de polos complejos conjugados que quedarán sobre una circunferencia de radio unitario con una separación entre sí de $\\frac{\\pi}{4}$.\n",
    "\n",
    "Para la aproximación de Butterworth, los polinomios de orden 2 tienen la forma:\n",
    "\n",
    "$T(s) = \\frac{1}{s^2 + s . \\frac{1}{Q} + 1}$\n",
    "\n",
    "Donde:\n",
    "\n",
    "$\\frac{1}{Q} = 2 . cos(\\psi)$\n",
    "\n",
    "El primer par de polos tendrá una apertura angular de $\\pm\\frac{\\pi}{8}$ y el segundo de $\\pm\\frac{3}{8}.\\pi$ por lo cual podemos expresar la transferencia como:\n",
    "\n",
    "$T(s')=\\frac{1}{s'^2 + s' . 2 . cos(\\frac{\\pi}{8}) + 1} . \\frac{1}{s'^2 + s' . 2 . cos(\\frac{3}{8}) + 1}$\n",
    "\n",
    "Llamamos s' a la variable compleja correspondiente al pasa-bajos y s a la variable compleja correspondiente al pasa-altos"
   ]
  },
  {
   "cell_type": "code",
   "execution_count": 7,
   "metadata": {},
   "outputs": [
    {
     "name": "stdout",
     "output_type": "stream",
     "text": [
      "a: 1.8477590650225735\n",
      "b: 0.7653668647301797\n"
     ]
    }
   ],
   "source": [
    "pi = np.pi\n",
    "a = 2 * np.cos(pi/8)\n",
    "b = 2 * np.cos(3*pi/8)\n",
    "\n",
    "print(f'a: {a}')\n",
    "print(f'b: {b}')"
   ]
  },
  {
   "cell_type": "markdown",
   "metadata": {},
   "source": [
    "Expresamos la transferencia del pasa-bajos prototipo como:\n",
    "\n",
    "$T(s')=\\frac{1}{s'^2 + s' . 1,8477 + 1} . \\frac{1}{s'^2 + s' . 0,7653 + 1}$\n",
    "\n",
    "Aplicamos la transformación para pasar del pasa-bajos prototipo al pasa-altos.\n",
    "\n",
    "$s' = \\frac{1}{s}$\n",
    "\n",
    "$T(s)=\\frac{1}{(\\frac{1}{s})^2 + \\frac{1}{s} . 1,8477 + 1} . \\frac{1}{(\\frac{1}{s})^2 + \\frac{1}{s} . 0,7653 + 1}$\n",
    "\n",
    "$T(s)=\\frac{s^2}{s^2 + s . 1,8477 + 1} . \\frac{s^2}{s^2 + s . 0,7653 + 1}$\n",
    "\n",
    "Importante: El pasa-altos de esta última expresión no es el objetivo, ya que sigue normalizado para Butterworth. Esta expresión de pasa-altos corresponde a una $\\alpha_{Máx}$ de $3dB$ y no de $1dB$ como se nos pide. El verdadero pasa-altos que queremos lo obtenemos al final cuando desnormalizamos los componentes."
   ]
  },
  {
   "cell_type": "markdown",
   "metadata": {},
   "source": [
    "Planteamos un circuito pasivo de orden 2 con una red RLC en la que tomamos la tensión en la salida del inductor.\n",
    "\n",
    "![circuito_rlc](img/circuito_rlc.JPG)\n",
    "\n",
    "Su transferencia se expresa como:\n",
    "\n",
    "$T(s) = \\frac{s^2}{s^2 + s . \\frac{R}{L} + \\frac{1}{L.C}}$\n",
    "\n",
    "Donde:\n",
    "\n",
    "$\\omega_0^2 = \\frac{1}{L.C}$\n",
    "\n",
    "$\\frac{\\omega_0}{Q} = \\frac{R}{L}$\n",
    "\n",
    "De estas 2 expresiones podemos despejar que:\n",
    "\n",
    "$Q = \\sqrt{\\frac{L}{C}} . \\frac{1}{R}$\n",
    "\n",
    "Fijamos los valores $L = 1$ y $C = 1$\n",
    "\n",
    "En la práctica, conviene fijar los valores de C ya que es más fácil ajustar en la resistencia que en el capacitor.\n",
    "\n",
    "Con $L = 1$ y $C = 1$ entonces:\n",
    "\n",
    "$Q = \\frac{1}{R}$\n",
    "\n",
    "$R = \\frac{1}{Q}$\n",
    "\n",
    "Para la primera etapa $R_1 = 1,8477$ y para la segunda $R_2 = 0,7653$\n",
    "\n",
    "El circuito normalizado nos queda:\n",
    "\n",
    "![circuito_normalizado](img/circuito_normalizado.JPG)\n",
    "\n",
    "Al desnormalizar en frecuencia y en impedancia:\n",
    "\n",
    "$R_1' = R_1 . \\Omega_Z$\n",
    "\n",
    "$R_2' = R_2 . \\Omega_Z$\n",
    "\n",
    "$C' = \\frac{C}{\\Omega_\\omega . \\Omega_Z}$\n",
    "\n",
    "$L' = \\frac{L . \\Omega_Z}{\\Omega_\\omega}$"
   ]
  },
  {
   "cell_type": "code",
   "execution_count": 8,
   "metadata": {},
   "outputs": [
    {
     "name": "stdout",
     "output_type": "stream",
     "text": [
      "R1=1847.6999999999998\n",
      "R2=765.3\n",
      "C=5.384002499547252e-08\n",
      "L=0.05384002499547252\n"
     ]
    }
   ],
   "source": [
    "fp = 3500\n",
    "Wz = 1000\n",
    "Ww = 2*pi*fp*(e**(1/4))\n",
    "\n",
    "R1_n = 1.8477\n",
    "R2_n = 0.7653\n",
    "C_n = 1\n",
    "L_n = 1\n",
    "\n",
    "R1 = R1_n * Wz\n",
    "R2 = R2_n * Wz\n",
    "C = C_n/(Ww*Wz)\n",
    "L = (L_n*Wz)/Ww\n",
    "\n",
    "print(f'R1={R1}')\n",
    "print(f'R2={R2}')\n",
    "print(f'C={C}')\n",
    "print(f'L={L}')"
   ]
  },
  {
   "cell_type": "markdown",
   "metadata": {},
   "source": [
    "$R_1' = 1847,7\\Omega$\n",
    "\n",
    "$R_2' = 765,3\\Omega$\n",
    "\n",
    "$C' = 53,84nF$\n",
    "\n",
    "$L' = 53,84mHy$\n",
    "\n",
    "El circuito desnormalizado queda de la siguiente forma:\n",
    "\n",
    "![circuito_desnormalizado](img/circuito_desnormalizado.JPG)\n",
    "\n",
    "Al simularlo se puede observar el siguiente gráfico:\n",
    "\n",
    "![simulacion_desnormalizada](img/simulacion_desnormalizado.JPG)"
   ]
  }
 ],
 "metadata": {
  "interpreter": {
   "hash": "6ca364f2759a5aafb09686aa9324eacc5d501526362630bb6a990b46351437c4"
  },
  "kernelspec": {
   "display_name": "Python 3.9.7 ('base')",
   "language": "python",
   "name": "python3"
  },
  "language_info": {
   "codemirror_mode": {
    "name": "ipython",
    "version": 3
   },
   "file_extension": ".py",
   "mimetype": "text/x-python",
   "name": "python",
   "nbconvert_exporter": "python",
   "pygments_lexer": "ipython3",
   "version": "3.9.7"
  },
  "orig_nbformat": 4
 },
 "nbformat": 4,
 "nbformat_minor": 2
}
