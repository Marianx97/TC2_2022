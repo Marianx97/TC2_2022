{
 "cells": [
  {
   "cell_type": "markdown",
   "metadata": {},
   "source": [
    "## TS7\n",
    "\n",
    "1) Para el siguiente cuadripolo se pide calcular los parámetros Z\n",
    "\n",
    "![\"Consigna_1\"](img/consigna_1.JPG)\n",
    "\n",
    "2) Para el mismo cuadripolo, determine las admitancias $Y_1$, $Y_2$, $Y_3$ y el parámetro $a$ que hacen que la red sea simétrica y recíproca.\n",
    "\n",
    "![\"Consigna_2\"](img/consigna_2.JPG)"
   ]
  },
  {
   "cell_type": "markdown",
   "metadata": {},
   "source": [
    "### Resolución\n",
    "\n",
    "Análizando el cuadripolo:\n",
    "\n",
    "![\"circuito\"](img/circuito_corrientes.jpg)"
   ]
  },
  {
   "cell_type": "markdown",
   "metadata": {},
   "source": [
    "### 1)\n",
    "\n",
    "Teniendo en cuenta los bornes homólogos del transformador, se puede expresar que:\n",
    "\n",
    "$V_1 = -a . V_2$\n",
    "\n",
    "$I_a = \\frac{I_b}{a}$\n",
    "\n",
    "$a = 1$\n",
    "\n",
    "Considerando las corrientes que circulan por el circuito, se puede expresar que:\n",
    "\n",
    "$I_1 = \\frac{V_1}{R_1} + \\frac{V_1-V_2}{R_2} + I_a$\n",
    "\n",
    "$I_2 = \\frac{V_2}{R_3} + \\frac{V_2-V_1}{R_2} + I_b$"
   ]
  },
  {
   "cell_type": "markdown",
   "metadata": {},
   "source": [
    "Para hallar los parámetros Z:\n",
    "\n",
    "$Z_{11} = \\frac{V_1}{I_1}|_{I_2=0}$\n",
    "\n",
    "$Z_{12} = \\frac{V_1}{I_2}|_{I_1=0}$\n",
    "\n",
    "$Z_{21} = \\frac{V_2}{I_1}|_{I_2=0}$\n",
    "\n",
    "$Z_{22} = \\frac{V_2}{I_2}|_{I_1=0}$"
   ]
  },
  {
   "cell_type": "markdown",
   "metadata": {},
   "source": [
    "### $Z_{11}$\n",
    "\n",
    "Considerando $I_2 = 0$\n",
    "\n",
    "$0 = \\frac{V_2}{R_3} + \\frac{V_2-V_1}{R_2} + I_b$\n",
    "\n",
    "$-I_b = \\frac{V_2}{R_3} + \\frac{V_2-V_1}{R_2}$\n",
    "\n",
    "$V_1 = -a . V_2$\n",
    "\n",
    "$V_2 = -\\frac{V_1}{a}$\n",
    "\n",
    "$-I_b = \\frac{-\\frac{V_1}{a}}{R_3} + \\frac{-\\frac{V_1}{a}-V_1}{R_2}$\n",
    "\n",
    "$-I_b = -V_1 . (\\frac{1}{a .R_3} + \\frac{\\frac{1}{a}+1}{R_2})$\n",
    "\n",
    "$I_b = V_1 . (\\frac{1}{a .R_3} + \\frac{\\frac{1}{a}+1}{R_2})$\n",
    "\n",
    "$I_a . a = V_1 . (\\frac{1}{a .R_3} + \\frac{\\frac{1}{a}+1}{R_2})$\n",
    "\n",
    "$I_a = \\frac{V_1}{a} . (\\frac{1}{a .R_3} + \\frac{\\frac{1}{a}+1}{R_2})$\n",
    "\n",
    "$I_1 = \\frac{V_1}{R_1} + \\frac{V_1-(-\\frac{V_1}{a})}{R_2} + \\frac{V_1}{a} . (\\frac{1}{a .R_3} + \\frac{\\frac{1}{a}+1}{R_2})$\n",
    "\n",
    "$I_1 = V_1 . (\\frac{1}{R_1} + \\frac{1+\\frac{1}{a}}{R_2} + \\frac{1}{a} . (\\frac{1}{a .R_3} + \\frac{\\frac{1}{a}+1}{R_2}))$\n",
    "\n",
    "Considerando:\n",
    "* $a = 1$\n",
    "* $R_1 = 1$\n",
    "* $R_2 = 2$\n",
    "* $R_3 = 3$\n",
    "\n",
    "$I_1 = V_1 . (1+1+\\frac{4}{3})$\n",
    "\n",
    "$I_1 = V_1 . \\frac{10}{3}$\n",
    "\n",
    "$Z_{11} = \\frac{V_1}{I_1} = \\frac{3}{10} = 0,3$"
   ]
  },
  {
   "cell_type": "markdown",
   "metadata": {},
   "source": [
    "### $Z_{12}$\n",
    "\n",
    "Considerando $I_1 = 0$\n",
    "\n",
    "$0 = \\frac{V_1}{R_1} + \\frac{V_1-V_2}{R_2} + I_a$\n",
    "\n",
    "$-I_a = \\frac{V_1}{R_1} + \\frac{V_1-V_2}{R_2}$\n",
    "\n",
    "$V_2 = -\\frac{V_1}{a}$\n",
    "\n",
    "$-I_a = \\frac{V_1}{R_1} + \\frac{V_1-(-\\frac{V_1}{a})}{R_2}$\n",
    "\n",
    "$-I_a = V_1 . (\\frac{1}{R_1} + \\frac{1+\\frac{1}{a}}{R_2})$\n",
    "\n",
    "$I_b = I_a . a$\n",
    "\n",
    "$I_b = - a . V_1 . (\\frac{1}{R_1} + \\frac{1+\\frac{1}{a}}{R_2})$\n",
    "\n",
    "$I_2 = \\frac{-\\frac{V_1}{a}}{R_3} + \\frac{-\\frac{V_1}{a}-V_1}{R_2} - a . V_1 . (\\frac{1}{R_1} + \\frac{1+\\frac{1}{a}}{R_2})$\n",
    "\n",
    "$I_2 = -V_1 . (\\frac{1}{a.R_3} + \\frac{\\frac{1}{a}+1}{R_2} + a . (\\frac{1}{R_1} + \\frac{1+\\frac{1}{a}}{R_2}))$\n",
    "\n",
    "Considerando:\n",
    "* $a = 1$\n",
    "* $R_1 = 1$\n",
    "* $R_2 = 2$\n",
    "* $R_3 = 3$\n",
    "\n",
    "$I_2 = -V_1 . (\\frac{1}{3}+1+2)$\n",
    "\n",
    "$I_2 = -V_1 . \\frac{10}{3}$\n",
    "\n",
    "$Z_{12} = \\frac{V_1}{I_2} = - \\frac{3}{10} = -0,3$"
   ]
  },
  {
   "cell_type": "markdown",
   "metadata": {},
   "source": [
    "### $Z_{21}$\n",
    "\n",
    "Considerando $I_2 = 0$\n",
    "\n",
    "$0 = \\frac{V_2}{R_3} + \\frac{V_2-V_1}{R_2} + I_b$\n",
    "\n",
    "$-I_b = \\frac{V_2}{R_3} + \\frac{V_2-V_1}{R_2}$\n",
    "\n",
    "$V_1 = -a . V_2$\n",
    "\n",
    "$-I_b = \\frac{V_2}{R_3} + \\frac{V_2-(-a . V_2)}{R_2}$\n",
    "\n",
    "$-I_b = V_2 . (\\frac{1}{R_3} + \\frac{1+a}{R_2})$\n",
    "\n",
    "$I_a = \\frac{I_b}{a}$\n",
    "\n",
    "$I_a = - V_2 .\\frac{1}{a} . (\\frac{1}{R_3} + \\frac{1+a}{R_2})$\n",
    "\n",
    "$I_1 = -\\frac{a . V_2}{R_1} + \\frac{(-a . V_2)-V_2}{R_2} - V_2 .\\frac{1}{a} . (\\frac{1}{R_3} + \\frac{1+a}{R_2})$\n",
    "\n",
    "$I_1 = -V_2 . (\\frac{a}{R_1} + \\frac{a+1}{R_2} + \\frac{1}{a} . (\\frac{1}{R_3} + \\frac{1+a}{R_2}))$\n",
    "\n",
    "Considerando:\n",
    "* $a = 1$\n",
    "* $R_1 = 1$\n",
    "* $R_2 = 2$\n",
    "* $R_3 = 3$\n",
    "\n",
    "$I_1 = -V_2 . (1+1+\\frac{4}{3})$\n",
    "\n",
    "$I_1 = -V_2 . \\frac{10}{3}$\n",
    "\n",
    "$Z_{21} = \\frac{V_2}{I_1} = -\\frac{3}{10} = -0,3$"
   ]
  },
  {
   "cell_type": "markdown",
   "metadata": {},
   "source": [
    "### $Z_{22}$\n",
    "\n",
    "Considerando $I_1 = 0$\n",
    "\n",
    "$0 = \\frac{V_1}{R_1} + \\frac{V_1-V_2}{R_2} + I_a$\n",
    "\n",
    "$-I_a = \\frac{V_1}{R_1} + \\frac{V_1-V_2}{R_2}$\n",
    "\n",
    "$V_1 = -a . V_2$\n",
    "\n",
    "$-I_a = \\frac{-a . V_2}{R_1} + \\frac{-a . V_2-V_2}{R_2}$\n",
    "\n",
    "$-I_a = -V_2 . (\\frac{a}{R_1} + \\frac{a+1}{R_2})$\n",
    "\n",
    "$I_a = V_2 . (\\frac{a}{R_1} + \\frac{a+1}{R_2})$\n",
    "\n",
    "$I_b = a . I_a$\n",
    "\n",
    "$I_b = V_2 . a . (\\frac{a}{R_1} + \\frac{a+1}{R_2})$\n",
    "\n",
    "$I_2 = \\frac{V_2}{R_3} + \\frac{V_2-(-a . V_2)}{R_2} + V_2 . a . (\\frac{a}{R_1} + \\frac{a+1}{R_2})$\n",
    "\n",
    "$I_2 = V_2 . (\\frac{1}{R_3} + \\frac{1+a}{R_2} + a . (\\frac{a}{R_1} + \\frac{a+1}{R_2}))$\n",
    "\n",
    "Considerando:\n",
    "* $a = 1$\n",
    "* $R_1 = 1$\n",
    "* $R_2 = 2$\n",
    "* $R_3 = 3$\n",
    "\n",
    "$I_2 = V_2 . (\\frac{1}{3}+1+2)$\n",
    "\n",
    "$I_2 = V_2 . \\frac{10}{3}$\n",
    "\n",
    "$Z_{22} = \\frac{V_2}{I_2} = \\frac{3}{10} = 0,3$\n"
   ]
  },
  {
   "cell_type": "markdown",
   "metadata": {},
   "source": [
    "Finalmente, la matriz de parámetros Z queda:\n",
    "\n",
    "$Z = \\begin{bmatrix} Z_{11} & Z_{12} \\\\ Z_{21} & Z_{22} \\end{bmatrix} = \\begin{bmatrix} 0,3 & -0,3 \\\\ -0,3 & 0,3 \\end{bmatrix}$"
   ]
  },
  {
   "cell_type": "markdown",
   "metadata": {},
   "source": [
    "### 2)\n",
    "\n",
    "Para que la red sea recíproca: $Z_{12} = Z_{21}$\n",
    "\n",
    "Para que la red sea simétrica: $Z_{11} = Z_{22}$\n",
    "\n",
    "Con los componentes como están dados en la red original, el cuadripolo ya cumple con las condiciones de reciprocidad y simetría. Por lo tanto:\n",
    "\n",
    "* $Y_1 = \\frac{1}{R_1} = 1$\n",
    "* $Y_2 = \\frac{1}{R_2} = 0,5$\n",
    "* $Y_3 = \\frac{1}{R_3} = 0,33$\n",
    "* $a = 1$"
   ]
  }
 ],
 "metadata": {
  "kernelspec": {
   "display_name": "Python 3.9.7 ('base')",
   "language": "python",
   "name": "python3"
  },
  "language_info": {
   "name": "python",
   "version": "3.9.7"
  },
  "orig_nbformat": 4,
  "vscode": {
   "interpreter": {
    "hash": "6ca364f2759a5aafb09686aa9324eacc5d501526362630bb6a990b46351437c4"
   }
  }
 },
 "nbformat": 4,
 "nbformat_minor": 2
}
