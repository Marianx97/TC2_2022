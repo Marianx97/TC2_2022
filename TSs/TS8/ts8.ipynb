{
 "cells": [
  {
   "cell_type": "markdown",
   "metadata": {},
   "source": [
    "## TS8\n",
    "\n",
    "### Parte 1\n",
    "\n",
    "Para el siguiente circuito:\n",
    "\n",
    "![circuito_consigna](img/circuito_consigna.JPG)\n",
    "\n",
    "**Análisis de cuadripolos**\n",
    "\n",
    "1. Obtener la transferencia de tensión $\\frac{V_o}{V_i}$ por método de cuadripolos (se sugiere referirse a alguno de los métodos de interconexión ya vistos). **Ayuda**: si $C2=\\frac{4}{3}$ (se utilizó 1.333 para la simulación), los polos de la transferencia están ubicados sobre una circunferencia de radio unitario.\n",
    "2. Valide la transferencia con simulación circuital.\n",
    "\n",
    "**Análisis matricial**\n",
    "\n",
    "1. Construya la matriz de admitancia indefinida (MAI) del circuito.\n",
    "1. Compute la transferencia de tensión con la MAI."
   ]
  },
  {
   "cell_type": "markdown",
   "metadata": {},
   "source": [
    "## Resolución - Parte 1\n",
    "\n",
    "**Análisis de cuadripolos**\n",
    "\n",
    "Partiendo del circuito propuesto, se puede analizar como la interconexión en cascada de 2 cuadripolos L, donde:\n",
    "$T_F = T_{CL1} . T_{CL2}$\n",
    "\n",
    "![cuadripolo_L](img/cuadripolo_L.JPG)\n",
    "\n",
    "La matriz T del cuadripolo L se puede calcular como:\n",
    "\n",
    "$T = \\begin{bmatrix} A & B \\\\ C & D \\end{bmatrix} = \\begin{bmatrix} 1 + Z.Y & Z \\\\ Y & 1 \\end{bmatrix}$\n",
    "\n",
    "Finalmente:\n",
    "\n",
    "$T_{CL1} = \\begin{bmatrix} 1 + (s.L_1).(s.C_2) & s.L_1 \\\\ s.C_2 & 1 \\end{bmatrix} = \\begin{bmatrix} 1 + s^2.L_1.C_2 & s.L_1 \\\\ s.C_2 & 1 \\end{bmatrix}$\n",
    "\n",
    "$T_{CL2} = \\begin{bmatrix} 1 + (s.L_3).(\\frac{1}{R}) & s.L_3 \\\\ \\frac{1}{R} & 1 \\end{bmatrix} = \\begin{bmatrix} 1 + s.L_3.G & s.L_3 \\\\ G & 1 \\end{bmatrix}$\n",
    "\n",
    "$T_F = \\begin{bmatrix} 1 + s^2.L_1.C_2 & s.L_1 \\\\ s.C_2 & 1 \\end{bmatrix} . \\begin{bmatrix} 1 + s.L_3.G & s.L_3 \\\\ G & 1 \\end{bmatrix}$\n",
    "\n",
    "El coeficiente que nos interesa para calcular la ganancia de tensión es el coeficiente $A$, el cual se calcula como:\n",
    "\n",
    "$A = (1 + s^2.L_1.C_2) . (1 + s.L_3.G) + (s.L_1) . (G) = s^3.L_1.L_3.C_2.G + s^2.L_1.C_2 + s.(L_1+L_3).G + 1$\n",
    "\n",
    "Recordando las ecuaciones de la matriz T:\n",
    "\n",
    "$V_1 = A . V_2 + B . (-I_2)$\n",
    "\n",
    "$I_1 = C . V_2 + D . (-I_2)$\n",
    "\n",
    "Considerando $(-I_2) = 0$:\n",
    "\n",
    "$A|_{(-I_2)=0}=\\frac{V_1}{V_2}$\n",
    "\n",
    "Por lo tanto, la transferencia queda como:\n",
    "\n",
    "$A_V = \\frac{V_o}{V_i}=\\frac{1}{A}$\n",
    "\n",
    "$A_V = T(s) = \\frac{1}{s^3.L_1.L_3.C_2.G + s^2.L_1.C_2 + s.(L_1+L_3).G + 1}$\n",
    "\n",
    "$T(s) = \\frac{\\frac{1}{L_1.L_3.C_2.G}}{s^3 + s^2.\\frac{L_1.C_2}{L_1.L_3.C_2.G} + s.\\frac{(L_1+L_3).G}{L_1.L_3.C_2.G} + \\frac{1}{L_1.L_3.C_2.G}}$\n",
    "\n",
    "$T(s) = \\frac{\\frac{1}{L_1.L_3.C_2.G}}{s^3 + s^2.\\frac{1}{L_3.G} + s.\\frac{(L_1+L_3)}{L_1.L_3.C_2} + \\frac{1}{L_1.L_3.C_2.G}}$\n",
    "\n",
    "Considerando:\n",
    "* $L_1 = \\frac{3}{2}$\n",
    "* $C_2 = \\frac{4}{3}$\n",
    "* $L_3 = \\frac{1}{2}$\n",
    "* $R = 1$\n",
    "\n",
    "La transferencia queda:\n",
    "\n",
    "$T(s) = \\frac{1}{s^3+s^2.2+s.3+1}$"
   ]
  },
  {
   "cell_type": "code",
   "execution_count": 1,
   "metadata": {},
   "outputs": [],
   "source": [
    "import matplotlib.pyplot as plt\n",
    "import scipy.signal as sig\n",
    "import numpy as np\n",
    "from splane import analyze_sys\n",
    "\n",
    "num = [1]\n",
    "den = [1,2,3,1]\n",
    "\n",
    "transfer_f = sig.TransferFunction(num, den)\n",
    "\n",
    "plt.close('all')\n",
    "analyze_sys(transfer_f, 'Transferencia')"
   ]
  },
  {
   "cell_type": "markdown",
   "metadata": {},
   "source": [
    "### Simulación Circuital\n",
    "\n",
    "![circuito_simulado](img/circuito_simulado.JPG)\n",
    "\n",
    "![transferencia](img/transferencia_mod_y_fase.JPG)\n"
   ]
  },
  {
   "cell_type": "markdown",
   "metadata": {},
   "source": [
    "**Análisis matricial**\n",
    "\n",
    "![circuito_con_nodos](img/circuito_con_nodos.JPG)\n",
    "\n",
    "Cortocircuitando los puertos 1, 2 y 3, inyectando $I_0$ y midiendo $V_0$\n",
    "\n",
    "$Y_{00} = \\frac{1}{s.L_1}$\n",
    "\n",
    "Cortocircuitando los puertos 0, 2 y 3, inyectando $I_1$ y midiendo $V_1$\n",
    "\n",
    "$Y_{11} = \\frac{1}{s.L_1} + s.C_2 + \\frac{1}{s.L_3}$\n",
    "\n",
    "Cortocircuitando los puertos 0, 1 y 3, inyectando $I_2$ y midiendo $V_2$\n",
    "\n",
    "$Y_{22} = \\frac{1}{s.L_3} + \\frac{1}{R}$\n",
    "\n",
    "Cortocircuitando los puertos 0, 1 y 2, inyectando $I_3$ y midiendo $V_3$\n",
    "\n",
    "$Y_{33} = s.C_2 + \\frac{1}{R}$"
   ]
  },
  {
   "cell_type": "markdown",
   "metadata": {},
   "source": [
    "Conociendo los valores de la diagonal principal de la matriz y las propiedades de esta, se puede armar la matriz de admitancia indefinida como:\n",
    "\n",
    "$Y_{MAI} = \\begin{bmatrix} \\frac{1}{s.L_1} & -\\frac{1}{s.L_1} & 0 & 0 \\\\ -\\frac{1}{s.L_1} & \\frac{1}{s.L_1} + s.C_2 + \\frac{1}{s.L_3} & -\\frac{1}{s.L_3} & -s.C_2 \\\\ 0 & -\\frac{1}{s.L_3} & \\frac{1}{s.L_3} + \\frac{1}{R} & -\\frac{1}{R} \\\\ 0 & -s.C_2 & -\\frac{1}{R} & s.C_2 + \\frac{1}{R}\\end{bmatrix}$"
   ]
  },
  {
   "cell_type": "markdown",
   "metadata": {},
   "source": [
    "Para conocer la relación entre $V_o$ y $V_i$, se plantea la ecuación:\n",
    "\n",
    "${A_V}_{03}^{23} = sig(0-3) . sig(2-3) . \\frac{Y_{23}^{03}}{Y_{03}^{03}}$\n",
    "\n",
    "$Y_{23}^{03} = det(\\begin{bmatrix} -\\frac{1}{s.L_1} & 0 \\\\ \\frac{1}{s.L_1} + s.C_2 + \\frac{1}{s.L_3} & -\\frac{1}{s.L_3} \\end{bmatrix})$\n",
    "\n",
    "$Y_{23}^{03} = \\frac{1}{s^2.L_1.L_3}$\n",
    "\n",
    "$Y_{03}^{03} = det(\\begin{bmatrix} \\frac{1}{s.L_1} + s.C_2 + \\frac{1}{s.L_3} & -\\frac{1}{s.L_3} \\\\ -\\frac{1}{s.L_3} & \\frac{1}{s.L_3} + \\frac{1}{R} \\end{bmatrix})$\n",
    "\n",
    "$Y_{03}^{03} = (\\frac{1}{s.L_1} + s.C_2 + \\frac{1}{s.L_3}) . (\\frac{1}{s.L_3} + \\frac{1}{R}) - (-\\frac{1}{s.L_3}) . (-\\frac{1}{s.L_3})$\n",
    "\n",
    "$Y_{03}^{03} = \\frac{1}{s^2.L_1.L_3} + \\frac{1}{s.L_1.R} + \\frac{C_2}{L_3} + \\frac{s.C_2}{R} + \\frac{1}{s^2.L_3^2} + \\frac{1}{s.L_3.R} - \\frac{1}{s^2.L_3^2}$\n",
    "\n",
    "$Y_{03}^{03} = \\frac{1}{s^2.L_1.L_3} + \\frac{1}{s.L_1.R} + \\frac{C_2}{L_3} + \\frac{s.C_2}{R} + \\frac{1}{s.L_3.R}$\n",
    "\n",
    "$Y_{03}^{03} = \\frac{1}{s^2.L_1.L_3} . (1+\\frac{s^2.L_1.L_3}{s.L_1.R} + \\frac{s^2.L_1.L_3.C_2}{L_3} + \\frac{s^2.L_1.L_3.s.C_2}{R} + \\frac{s^2.L_1.L_3}{s.L_3.R})$\n",
    "\n",
    "$Y_{03}^{03} = \\frac{1}{s^2.L_1.L_3} . (1+\\frac{s.L_3}{R} + s^2.L_1.C_2 + \\frac{s^3.L_1.L_3.C_2}{R} + \\frac{s.L_1}{R})$\n",
    "\n",
    "$Y_{03}^{03} = \\frac{1}{s^2.L_1.L_3} . (\\frac{s^3.L_1.L_3.C_2}{R} + s^2.L_1.C_2 + \\frac{s.(L_1 + L_3)}{R} + 1)$"
   ]
  },
  {
   "cell_type": "markdown",
   "metadata": {},
   "source": [
    "${A_V}_{03}^{23} = sig(0-3) . sig(2-3) . \\frac{Y_{23}^{03}}{Y_{03}^{03}}$\n",
    "\n",
    "${A_V}_{03}^{23} = (-1) . (-1) . \\frac{Y_{23}^{03}}{Y_{03}^{03}}$\n",
    "\n",
    "${A_V}_{03}^{23} = \\frac{Y_{23}^{03}}{Y_{03}^{03}}$\n",
    "\n",
    "${A_V}_{03}^{23} = \\frac{\\frac{1}{s^2.L_1.L_3}}{\\frac{1}{s^2.L_1.L_3} . (s^3.\\frac{L_1.L_3.C_2}{R} + s^2.L_1.C_2 + s.\\frac{(L_1 + L_3)}{R} + 1)}$\n",
    "\n",
    "${A_V}_{03}^{23} = \\frac{1}{s^3.\\frac{L_1.L_3.C_2}{R} + s^2.L_1.C_2 + s.\\frac{(L_1 + L_3)}{R} + 1}$"
   ]
  },
  {
   "cell_type": "markdown",
   "metadata": {},
   "source": [
    "${A_V}_{03}^{23} = \\frac{\\frac{1}{L_1.L_3.C_2.G}}{s^3 + s^2.\\frac{L_1.C_2}{L_1.L_3.C_2.G} + s.\\frac{(L_1 + L_3).G}{L_1.L_3.C_2.G} + \\frac{1}{L_1.L_3.C_2.G}}$\n",
    "\n",
    "${A_V}_{03}^{23} = \\frac{\\frac{1}{L_1.L_3.C_2.G}}{s^3 + s^2.\\frac{1}{L_3.G} + s.\\frac{(L_1 + L_3)}{L_1.L_3.C_2} + \\frac{1}{L_1.L_3.C_2.G}}$\n",
    "\n",
    "Considerando:\n",
    "* $L_1 = \\frac{3}{2}$\n",
    "* $C_2 = \\frac{4}{3}$\n",
    "* $L_3 = \\frac{1}{2}$\n",
    "* $R = 1$\n",
    "\n",
    "La transferencia queda:\n",
    "\n",
    "$T(s) = \\frac{1}{s^3+s^2.2+s.3+1}$\n",
    "\n",
    "Se llega a la misma transferencia que en el método anterior"
   ]
  },
  {
   "cell_type": "markdown",
   "metadata": {},
   "source": [
    "### Parte 2\n",
    "\n",
    "Realizar los ejercicios 2 y 3 del TP5 sobre Filtros Digitales.\n",
    "\n",
    "## Resolución - Parte 2\n",
    "\n",
    "### TP5 - EJ2\n",
    "\n",
    "Se desea emular digitalmente la característica de un filtro analógico pasa bajos Butterworth de orden 2, con $f_c = 1 KHz$.\n",
    "\n",
    "A. Para $f_s = 100 KHz$ y aplicando transformación bilineal, obtener un filtro con respuesta $H(z)$ cuyo comportamiento emule al Butterworth analógico. Trazar la respuesta en frecuencia de módulo y fase de ambos filtros sobre un mismo gráfico para establecer comparaciones.\n",
    "\n",
    "B. Repetir el punto anterior para $f_s = 10KHz$\n",
    "\n",
    "C. Repetir los puntos A) y B) si se desea emular digitalmente la característica de un filtro analógico pasa altos Butterworth de orden 2, con $f_c = 6KHz$\n",
    "\n",
    "D. Indique en cuál de los 3 casos ( A, B ó C ) justificaría rediseñar aplicando prewarping. Explique el motivo en pocas palabras.\n"
   ]
  },
  {
   "cell_type": "markdown",
   "metadata": {},
   "source": [
    "A)\n",
    "\n",
    "Ecuación de la transferencia de un filtro pasa bajos Butterworth de 2do orden:\n",
    "\n",
    "$T(S) = \\frac{1}{S^2+S.\\sqrt{2}+1}$\n",
    "\n",
    "Desnormalizando:\n",
    "\n",
    "$S=\\frac{s}{2\\pi.f_c}$\n",
    "\n",
    "Siendo $f_c = 1KHz$\n",
    "\n",
    "$T(s) = \\frac{1}{(\\frac{s}{2\\pi.f_c})^2+(\\frac{s}{2\\pi.f_c}).\\sqrt{2}+1}$\n",
    "\n",
    "$T(s) = \\frac{1}{\\frac{s^2}{(2\\pi.f_c)^2}+\\frac{s}{2\\pi.f_c}.\\sqrt{2}+1}$\n",
    "\n",
    "$T(s) = \\frac{(2\\pi.f_c)^2}{s^2+s.\\sqrt{2} . 2\\pi.f_c+(2\\pi.f_c)^2}$"
   ]
  },
  {
   "cell_type": "markdown",
   "metadata": {},
   "source": [
    "Aplicando la transformada bilineal:\n",
    "\n",
    "$s = k . \\frac{z-1}{z+1}$\n",
    "\n",
    "Siendo $k = 2.f_s$\n",
    "\n",
    "$T(z) = \\frac{(2\\pi.f_c)^2}{(k . \\frac{z-1}{z+1})^2+k . \\frac{z-1}{z+1} .\\sqrt{2} . 2\\pi.f_c+(2\\pi.f_c)^2}$\n",
    "\n",
    "$T(z) = \\frac{(2\\pi.f_c)^2}{\\frac{k^2}{(z+1)^2}((z-1)^2+(z-1).(z+1).\\frac{\\sqrt{2}.2\\pi.f_c}{k}+(z+1)^2.(\\frac{2\\pi.f_c}{k})^2)}$"
   ]
  },
  {
   "cell_type": "markdown",
   "metadata": {},
   "source": [
    "Renombrando para simplificar:\n",
    "\n",
    "$C = \\frac{2\\pi.f_c}{k}$"
   ]
  },
  {
   "cell_type": "markdown",
   "metadata": {},
   "source": [
    "$T(z) = \\frac{(z^2+2.z+1).C^2}{z^2-2.z+1+(z^2-1).\\sqrt{2}.C+(z^2+2.z+1).C^2}$\n",
    "\n",
    "$T(z) = \\frac{z^2 .C^2+z.2.C^2+.C^2}{z^2.(1+\\sqrt{2}.C+C^2)+z.(2.C^2-2)+(1+C^2-\\sqrt{2}.C)}$"
   ]
  },
  {
   "cell_type": "code",
   "execution_count": 12,
   "metadata": {},
   "outputs": [],
   "source": [
    "import matplotlib.pyplot as plt\n",
    "import scipy.signal as sig\n",
    "import numpy as np\n",
    "from splane import analyze_sys\n",
    "\n",
    "fig, ax = plt.subplots(constrained_layout=True)\n",
    "\n",
    "fc = 1000\n",
    "fs = 100*10**3\n",
    "\n",
    "k = 2 * fs\n",
    "C = (2*np.pi*fc)/k\n",
    "C2 = C**2\n",
    "\n",
    "analog_num = [(2*np.pi*fc)**2]\n",
    "analog_den = [1,(np.sqrt(2)*2*np.pi*fc),(2*np.pi*fc)**2]\n",
    "analog_sys = sig.TransferFunction(analog_num,analog_den)\n",
    "\n",
    "digital_num = [C2,2*C2,C2]\n",
    "digital_den = [(1+np.sqrt(2)*C+C2),(2*C2-2),(1+C2-np.sqrt(2)*C)]\n",
    "digital_sys = sig.TransferFunction(digital_num, digital_den, dt=1/fs)\n",
    "\n",
    "w_a, mag_a,phase_a = analog_sys.bode()\n",
    "w_d, mag_d,phase_d = sig.dbode(digital_sys)\n",
    "\n",
    "ax.semilogx(w_a/(2*np.pi), mag_a,color='b',label='Analógico')\n",
    "ax.semilogx(w_d/(2*np.pi), mag_d,color='r',label='Digital')\n",
    "\n",
    "ax.set_title('Función de Transferencia')\n",
    "ax.set_xlabel('Frecuencia (Hz)')\n",
    "ax.set_ylabel('Ganancia (dB)')\n",
    "ax.grid(True, which='both', axis='x', color='xkcd:light grey')\n",
    "\n",
    "plt.legend()\n",
    "\n",
    "ax2 = ax.twinx()\n",
    "\n",
    "ax2.semilogx(w_a/(2*np.pi), phase_a,color='b',linestyle='dashed')\n",
    "ax2.semilogx(w_d/(2*np.pi), phase_d,color='r',linestyle='dashed')\n",
    "ax2.set_ylabel('Fase (radians)')\n",
    "ax2.grid(True, which='both', axis='x', color='xkcd:light grey')\n"
   ]
  },
  {
   "cell_type": "markdown",
   "metadata": {},
   "source": [
    "B) Considerando ahora $f_s = 10KHz$"
   ]
  },
  {
   "cell_type": "code",
   "execution_count": 13,
   "metadata": {},
   "outputs": [],
   "source": [
    "import matplotlib.pyplot as plt\n",
    "import scipy.signal as sig\n",
    "import numpy as np\n",
    "from splane import analyze_sys\n",
    "\n",
    "fig, ax = plt.subplots(constrained_layout=True)\n",
    "\n",
    "fc = 1000\n",
    "fs = 10*10**3\n",
    "\n",
    "k = 2 * fs\n",
    "C = (2*np.pi*fc)/k\n",
    "C2 = C**2\n",
    "\n",
    "analog_num = [(2*np.pi*fc)**2]\n",
    "analog_den = [1,(np.sqrt(2)*2*np.pi*fc),(2*np.pi*fc)**2]\n",
    "analog_sys = sig.TransferFunction(analog_num,analog_den)\n",
    "\n",
    "digital_num = [C2,2*C2,C2]\n",
    "digital_den = [(1+np.sqrt(2)*C+C2),(2*C2-2),(1+C2-np.sqrt(2)*C)]\n",
    "digital_sys = sig.TransferFunction(digital_num, digital_den, dt=1/fs)\n",
    "\n",
    "w_a, mag_a,phase_a = analog_sys.bode()\n",
    "w_d, mag_d,phase_d = sig.dbode(digital_sys)\n",
    "\n",
    "ax.semilogx(w_a/(2*np.pi), mag_a,color='b',label='Analógico')\n",
    "ax.semilogx(w_d/(2*np.pi), mag_d,color='r',label='Digital')\n",
    "\n",
    "ax.set_title('Función de Transferencia')\n",
    "ax.set_xlabel('Frecuencia (Hz)')\n",
    "ax.set_ylabel('Ganancia (dB)')\n",
    "ax.grid(True, which='both', axis='x', color='xkcd:light grey')\n",
    "\n",
    "plt.legend()\n",
    "\n",
    "ax2 = ax.twinx()\n",
    "\n",
    "ax2.semilogx(w_a/(2*np.pi), phase_a,color='b',linestyle='dashed')\n",
    "ax2.semilogx(w_d/(2*np.pi), phase_d,color='r',linestyle='dashed')\n",
    "ax2.set_ylabel('Fase (radians)')\n",
    "ax2.grid(True, which='both', axis='x', color='xkcd:light grey')"
   ]
  },
  {
   "cell_type": "markdown",
   "metadata": {},
   "source": [
    "C)\n",
    "\n",
    "Ecuación de la transferencia de un filtro pasa altos Butterworth de 2do orden:\n",
    "\n",
    "$T(S) = \\frac{S^2}{S^2+S.\\sqrt{2}+1}$\n",
    "\n",
    "Desnormalizando:\n",
    "\n",
    "$S=\\frac{s}{2\\pi.f_c}$\n",
    "\n",
    "Siendo $f_c = 6KHz$\n",
    "\n",
    "$T(s) = \\frac{\\frac{s^2}{(2\\pi.f_c)^2}}{\\frac{s^2}{(2\\pi.f_c)^2}+\\frac{s}{2\\pi.f_c}.\\sqrt{2}+1}$\n",
    "\n",
    "$T(s) = \\frac{s^2}{s^2+s.\\sqrt{2}.2\\pi.f_c+(2\\pi.f_c)^2}$\n",
    "\n",
    "Aplicando la transformada bilineal:\n",
    "\n",
    "$s = k . \\frac{z-1}{z+1}$\n",
    "\n",
    "Siendo $k = 2.f_s$\n",
    "\n",
    "$T(z) = \\frac{k^2.\\frac{(z-1)^2}{(z+1)^2}}{k^2.\\frac{(z-1)^2}{(z+1)^2}+k.\\frac{z-1}{z+1}.\\sqrt{2}.2\\pi.f_c+(2\\pi.f_c)^2}$\n",
    "\n",
    "$T(z) = \\frac{\\frac{k^2}{(z+1)^2}.(z-1)^2}{\\frac{k^2}{(z+1)^2}.((z-1)^2+(z-1).(z+1).\\sqrt{2}.\\frac{2\\pi.f_c}{k}+(z+1)^2.(\\frac{2\\pi.f_c}{k})^2)}$\n",
    "\n",
    "Renombrando para simplificar:\n",
    "\n",
    "$C = \\frac{2\\pi.f_c}{k}$\n",
    "\n",
    "$T(z) = \\frac{z^2-2.z+1}{z^2-2.z+1+(z^2-1).\\sqrt{2}.C+(z^2+2.z+1).C^2}$\n",
    "\n",
    "$T(z) = \\frac{z^2-2.z+1}{z^2.(1+\\sqrt{2}.C+C^2)+z.(2.C^2-2)+(1+C^2-\\sqrt{2}.C)}$\n"
   ]
  },
  {
   "cell_type": "code",
   "execution_count": 14,
   "metadata": {},
   "outputs": [
    {
     "name": "stderr",
     "output_type": "stream",
     "text": [
      "c:\\Users\\ranuc\\anaconda3\\lib\\site-packages\\scipy\\signal\\ltisys.py:3860: RuntimeWarning: divide by zero encountered in log10\n",
      "  mag = 20.0 * numpy.log10(abs(y))\n"
     ]
    }
   ],
   "source": [
    "import matplotlib.pyplot as plt\n",
    "import scipy.signal as sig\n",
    "import numpy as np\n",
    "from splane import analyze_sys\n",
    "\n",
    "fig, ax = plt.subplots(constrained_layout=True)\n",
    "\n",
    "# CASO A: fs = 100KHz\n",
    "fc = 6000\n",
    "fs = 100*10**3\n",
    "\n",
    "k = 2 * fs\n",
    "C = (2*np.pi*fc)/k\n",
    "C2 = C**2\n",
    "\n",
    "analog_num = [1,0,0]\n",
    "analog_den = [1,(np.sqrt(2)*2*np.pi*fc),(2*np.pi*fc)**2]\n",
    "analog_sys = sig.TransferFunction(analog_num,analog_den)\n",
    "\n",
    "digital_num = [1,-2,1]\n",
    "digital_den = [(1+np.sqrt(2)*C+C2),(2*C2-2),(1+C2-np.sqrt(2)*C)]\n",
    "digital_sys = sig.TransferFunction(digital_num, digital_den, dt=1/fs)\n",
    "\n",
    "w_a, mag_a,phase_a = analog_sys.bode()\n",
    "w_d, mag_d,phase_d = sig.dbode(digital_sys)\n",
    "\n",
    "ax.semilogx(w_a/(2*np.pi), mag_a,color='b',label='Analógico')\n",
    "ax.semilogx(w_d/(2*np.pi), mag_d,color='r',label='Digital')\n",
    "\n",
    "ax.set_title('Función de Transferencia')\n",
    "ax.set_xlabel('Frecuencia (Hz)')\n",
    "ax.set_ylabel('Ganancia (dB)')\n",
    "ax.grid(True, which='both', axis='x', color='xkcd:light grey')\n",
    "\n",
    "plt.legend()\n",
    "\n",
    "ax2 = ax.twinx()\n",
    "\n",
    "ax2.semilogx(w_a/(2*np.pi), phase_a,color='b',linestyle='dashed')\n",
    "ax2.semilogx(w_d/(2*np.pi), phase_d,color='r',linestyle='dashed')\n",
    "ax2.set_ylabel('Fase (radians)')\n",
    "ax2.grid(True, which='both', axis='x', color='xkcd:light grey')"
   ]
  },
  {
   "cell_type": "code",
   "execution_count": 15,
   "metadata": {},
   "outputs": [
    {
     "name": "stderr",
     "output_type": "stream",
     "text": [
      "c:\\Users\\ranuc\\anaconda3\\lib\\site-packages\\scipy\\signal\\ltisys.py:3860: RuntimeWarning: divide by zero encountered in log10\n",
      "  mag = 20.0 * numpy.log10(abs(y))\n"
     ]
    }
   ],
   "source": [
    "import matplotlib.pyplot as plt\n",
    "import scipy.signal as sig\n",
    "import numpy as np\n",
    "from splane import analyze_sys\n",
    "\n",
    "fig, ax = plt.subplots(constrained_layout=True)\n",
    "\n",
    "# CASO A: fs = 10KHz\n",
    "fc = 6000\n",
    "fs = 10*10**3\n",
    "\n",
    "k = 2 * fs\n",
    "C = (2*np.pi*fc)/k\n",
    "C2 = C**2\n",
    "\n",
    "analog_num = [1,0,0]\n",
    "analog_den = [1,(np.sqrt(2)*2*np.pi*fc),(2*np.pi*fc)**2]\n",
    "analog_sys = sig.TransferFunction(analog_num,analog_den)\n",
    "\n",
    "digital_num = [1,-2,1]\n",
    "digital_den = [(1+np.sqrt(2)*C+C2),(2*C2-2),(1+C2-np.sqrt(2)*C)]\n",
    "digital_sys = sig.TransferFunction(digital_num, digital_den, dt=1/fs)\n",
    "\n",
    "w_a, mag_a,phase_a = analog_sys.bode()\n",
    "w_d, mag_d,phase_d = sig.dbode(digital_sys)\n",
    "\n",
    "ax.semilogx(w_a/(2*np.pi), mag_a,color='b',label='Analógico')\n",
    "ax.semilogx(w_d/(2*np.pi), mag_d,color='r',label='Digital')\n",
    "\n",
    "ax.set_title('Función de Transferencia')\n",
    "ax.set_xlabel('Frecuencia (Hz)')\n",
    "ax.set_ylabel('Ganancia (dB)')\n",
    "ax.grid(True, which='both', axis='x', color='xkcd:light grey')\n",
    "\n",
    "plt.legend()\n",
    "\n",
    "ax2 = ax.twinx()\n",
    "\n",
    "ax2.semilogx(w_a/(2*np.pi), phase_a,color='b',linestyle='dashed')\n",
    "ax2.semilogx(w_d/(2*np.pi), phase_d,color='r',linestyle='dashed')\n",
    "ax2.set_ylabel('Fase (radians)')\n",
    "ax2.grid(True, which='both', axis='x', color='xkcd:light grey')"
   ]
  },
  {
   "cell_type": "markdown",
   "metadata": {},
   "source": [
    "D) De los 4 casos, conviene aplicar prewarping en el último ya que en este se nota una deformación apreciable en cerca de la frecuencia de corte mientras que, en los que se muestrea a 100KHz casi no se aprecia deformación y en el pasabajos muestreado a 10KHz la deformación se produce lejos de la frecuencia de corte."
   ]
  },
  {
   "cell_type": "markdown",
   "metadata": {},
   "source": [
    "### TP5 - EJ3\n",
    "\n",
    "Dadas las siguientes respuestas al impulso se pide:\n",
    "\n",
    "* Transferencia del sistema $H(z)$.\n",
    "* Singularidades en el plano $Z$.\n",
    "* Respuesta de módulo y fase.\n",
    "\n",
    "A) **Filtro de media movil** *(moving average)*\n",
    "\n",
    "$h_1(k) = (1,1)$\n",
    "\n",
    "Es decir:\n",
    "- $h_1(0) = 1$\n",
    "- $h_1(1) = 1$\n",
    "\n",
    "$h_2(k) = (1,1,1)$\n",
    "\n",
    "Es decir:\n",
    "- $h_2(0) = 1$\n",
    "- $h_2(1) = 1$\n",
    "- $h_2(2) = 1$\n",
    "\n",
    "1. ¿Qué modificación debería implementarse para que la salida representa la media aritmética?\n",
    "2. Para el último sistema, ¿qué frecuencia de muestreo se debería adoptar si se quisiera eliminar con dicho filtro la interferencia causada por la frecuencia de línea de 50 Hz?\n",
    "\n",
    "B) **Filtro diferenciador**\n",
    "\n",
    "$h_1(k) = (1,-1)$\n",
    "\n",
    "Es decir:\n",
    "- $h_1(0) = 1$\n",
    "- $h_1(1) = -1$\n",
    "\n",
    "$h_2(k) = (1,0,-1)$\n",
    "\n",
    "Es decir:\n",
    "- $h_2(0) = 1$\n",
    "- $h_2(1) = 0$\n",
    "- $h_2(2) = -1$\n",
    "\n",
    "1. ¿Qué demora introducen ambos sistemas?\n",
    "2. Hasta qué frecuencias estos sistemas se comportan como un derivador ideal. Considere una tolerancia admisible del 5% respecto a su respuesta ideal $|H(\\Omega)|=\\Omega$\n"
   ]
  },
  {
   "cell_type": "markdown",
   "metadata": {},
   "source": [
    "### Resolución\n",
    "\n",
    "Considerando que la transformada $Z$ por definición es:\n",
    "\n",
    "$H(z) = \\Sigma_{n=-\\infty}^{\\infty} h(n) . z^{-n}$"
   ]
  },
  {
   "cell_type": "markdown",
   "metadata": {},
   "source": [
    "A) **Filtro media movil**\n",
    "\n",
    "$H_1(z) = h_1(0) . z^0 + h_1(1) . z^{-1}$\n",
    "\n",
    "$H_1(z) = 1 + z^{-1}$\n",
    "\n",
    "$H_1(z) = \\frac{z + 1}{z}$\n"
   ]
  },
  {
   "cell_type": "code",
   "execution_count": 35,
   "metadata": {},
   "outputs": [],
   "source": [
    "import matplotlib.pyplot as plt\n",
    "import scipy.signal as sig\n",
    "from splane import pzmap\n",
    "from matplotlib.ticker import FuncFormatter, MultipleLocator\n",
    "import numpy as np\n",
    "\n",
    "num = [1,1]\n",
    "den = [1,0]\n",
    "fs = 100*10**3\n",
    "\n",
    "transfer_f = sig.TransferFunction(num, den, dt=1/fs)\n",
    "\n",
    "w, h = sig.freqz(num, den)\n",
    "\n",
    "fig, ax1 = plt.subplots()\n",
    "ax1.set_title('Respuesta en frecuencia del filtro digital')\n",
    "ax1.plot(w, 20 * np.log10(abs(h)), 'b')\n",
    "ax1.set_ylabel('Modulo [dB]', color='b')\n",
    "ax1.set_xlabel('Frecuencia [rad/muestra]')\n",
    "ax1.xaxis.set_major_formatter(FuncFormatter(lambda val,pos: '{:.0g}$\\pi$'.format(val/np.pi) if val !=0 else '0'))\n",
    "\n",
    "ax2 = ax1.twinx()\n",
    "angles = np.unwrap(np.angle(h))\n",
    "ax2.plot(w, angles, 'g')\n",
    "ax2.set_ylabel('Fase (radianes)', color='g')\n",
    "ax2.grid()\n",
    "ax2.axis('tight')\n",
    "plt.show()\n",
    "\n",
    "filter_names=(\"  \")\n",
    "\n",
    "analog_fig_id, analog_axes_hdl = pzmap(transfer_f, filter_names, 3)"
   ]
  },
  {
   "cell_type": "markdown",
   "metadata": {},
   "source": [
    "$H_2(z)=h_1(0) . z^0 + h_1(1) . z^{-1} + h_1(2) . z^{-2}$\n",
    "\n",
    "$H_2(z)=1 + z^{-1} + z^{-2}$\n",
    "\n",
    "$H_2(z) = \\frac{z^2 + z + 1}{z^2}$\n"
   ]
  },
  {
   "cell_type": "code",
   "execution_count": 39,
   "metadata": {},
   "outputs": [],
   "source": [
    "import matplotlib.pyplot as plt\n",
    "import scipy.signal as sig\n",
    "from splane import pzmap\n",
    "from matplotlib.ticker import FuncFormatter, MultipleLocator\n",
    "import numpy as np\n",
    "\n",
    "num = [1,1,1]\n",
    "den = [1,0,0]\n",
    "fs = 100*10**3\n",
    "\n",
    "transfer_f = sig.TransferFunction(num, den, dt=1/fs)\n",
    "\n",
    "w, h = sig.freqz(num, den)\n",
    "\n",
    "fig, ax1 = plt.subplots()\n",
    "ax1.set_title('Respuesta en frecuencia del filtro digital')\n",
    "ax1.plot(w, 20 * np.log10(abs(h)), 'b')\n",
    "ax1.set_ylabel('Modulo [dB]', color='b')\n",
    "ax1.set_xlabel('Frecuencia [rad/muestra]')\n",
    "ax1.xaxis.set_major_formatter(FuncFormatter(lambda val,pos: '{:.0g}$\\pi$'.format(val/np.pi) if val !=0 else '0'))\n",
    "\n",
    "ax2 = ax1.twinx()\n",
    "angles = np.unwrap(np.angle(h))\n",
    "ax2.plot(w, angles, 'g')\n",
    "ax2.set_ylabel('Fase (radianes)', color='g')\n",
    "ax2.grid()\n",
    "ax2.axis('tight')\n",
    "plt.show()\n",
    "\n",
    "filter_names=(\"  \")\n",
    "\n",
    "analog_fig_id, analog_axes_hdl = pzmap(transfer_f, filter_names, 3)"
   ]
  },
  {
   "cell_type": "markdown",
   "metadata": {},
   "source": [
    "1. Para que la salida represente la media aritmética, debe dividirse por la cantida de muestras.\n",
    "2. La frecuencia eliminada se corresponde con $\\frac{6.\\pi}{9}$. Por lo tanto $50Hz$ debe estar sobre esa frecuencia. Considerando que $\\frac{f_s}{2}$ se corresponde con $\\pi$, se despeja:\n",
    "\n",
    "$\\frac{50Hz . \\pi}{\\frac{6.\\pi}{9}} = \\frac{f_s}{2}$\n",
    "\n",
    "$f_s = \\frac{100Hz . 9}{6} = 150Hz$\n"
   ]
  },
  {
   "cell_type": "markdown",
   "metadata": {},
   "source": [
    "B) **Filtro diferenciador**\n",
    "\n",
    "$H_1(z) = h_1(0) . z^0 + h_1(1) . z^{-1}$\n",
    "\n",
    "$H_1(z) = 1 - z^{-1}$\n",
    "\n",
    "$H_1(z) = \\frac{z - 1}{z}$"
   ]
  },
  {
   "cell_type": "code",
   "execution_count": 2,
   "metadata": {},
   "outputs": [
    {
     "name": "stderr",
     "output_type": "stream",
     "text": [
      "C:\\Users\\ranuc\\AppData\\Local\\Temp/ipykernel_22296/1418138146.py:17: RuntimeWarning: divide by zero encountered in log10\n",
      "  ax1.plot(w, 20 * np.log10(abs(h)), 'b')\n"
     ]
    },
    {
     "data": {
      "image/png": "[encoded data removed]",
      "text/plain": [
       "<Figure size 432x288 with 2 Axes>"
      ]
     },
     "metadata": {
      "needs_background": "light"
     },
     "output_type": "display_data"
    },
    {
     "data": {
      "image/png": "[encoded data removed]",
      "text/plain": [
       "<Figure size 432x288 with 1 Axes>"
      ]
     },
     "metadata": {
      "needs_background": "light"
     },
     "output_type": "display_data"
    }
   ],
   "source": [
    "import matplotlib.pyplot as plt\n",
    "import scipy.signal as sig\n",
    "from splane import pzmap\n",
    "from matplotlib.ticker import FuncFormatter, MultipleLocator\n",
    "import numpy as np\n",
    "\n",
    "num = [1,-1]\n",
    "den = [1,0]\n",
    "fs = 100*10**3\n",
    "\n",
    "transfer_f = sig.TransferFunction(num, den, dt=1/fs)\n",
    "\n",
    "w, h = sig.freqz(num, den)\n",
    "\n",
    "fig, ax1 = plt.subplots()\n",
    "ax1.set_title('Respuesta en frecuencia del filtro digital')\n",
    "ax1.plot(w, 20 * np.log10(abs(h)), 'b')\n",
    "ax1.set_ylabel('Modulo [dB]', color='b')\n",
    "ax1.set_xlabel('Frecuencia [rad/muestra]')\n",
    "ax1.xaxis.set_major_formatter(FuncFormatter(lambda val,pos: '{:.0g}$\\pi$'.format(val/np.pi) if val !=0 else '0'))\n",
    "\n",
    "ax2 = ax1.twinx()\n",
    "angles = np.unwrap(np.angle(h))\n",
    "ax2.plot(w, angles, 'g')\n",
    "ax2.set_ylabel('Fase (radianes)', color='g')\n",
    "ax2.grid()\n",
    "ax2.axis('tight')\n",
    "plt.show()\n",
    "\n",
    "filter_names=(\"  \")\n",
    "\n",
    "analog_fig_id, analog_axes_hdl = pzmap(transfer_f, filter_names, 3)"
   ]
  },
  {
   "cell_type": "markdown",
   "metadata": {},
   "source": [
    "$H_2(z) = h_2(0) . z^0 + h_2(1) . z^{-1} + h_2(2) . z^{-2}$\n",
    "\n",
    "$H_2(z) = 1 + 0 . z^{-1} - z^{-2}$\n",
    "\n",
    "$H_2(z) = 1 - z^{-2}$\n",
    "\n",
    "$H_2(z) = \\frac{z^2 - 1}{z^2}$"
   ]
  },
  {
   "cell_type": "code",
   "execution_count": 3,
   "metadata": {},
   "outputs": [
    {
     "name": "stderr",
     "output_type": "stream",
     "text": [
      "C:\\Users\\ranuc\\AppData\\Local\\Temp/ipykernel_22296/2702972711.py:16: RuntimeWarning: divide by zero encountered in log10\n",
      "  ax1.plot(w, 20 * np.log10(abs(h)), 'b')\n"
     ]
    },
    {
     "data": {
      "image/png": "[encoded data removed]",
      "text/plain": [
       "<Figure size 432x288 with 2 Axes>"
      ]
     },
     "metadata": {
      "needs_background": "light"
     },
     "output_type": "display_data"
    },
    {
     "data": {
      "image/png": "[encoded data removed]",
      "text/plain": [
       "<Figure size 432x288 with 1 Axes>"
      ]
     },
     "metadata": {
      "needs_background": "light"
     },
     "output_type": "display_data"
    }
   ],
   "source": [
    "import matplotlib.pyplot as plt\n",
    "import scipy.signal as sig\n",
    "from splane import pzmap\n",
    "from matplotlib.ticker import FuncFormatter, MultipleLocator\n",
    "\n",
    "num = [1,0,-1]\n",
    "den = [1,0,0]\n",
    "fs = 100*10**3\n",
    "\n",
    "transfer_f = sig.TransferFunction(num, den, dt=1/fs)\n",
    "\n",
    "w, h = sig.freqz(num, den)\n",
    "\n",
    "fig, ax1 = plt.subplots()\n",
    "ax1.set_title('Respuesta en frecuencia del filtro digital')\n",
    "ax1.plot(w, 20 * np.log10(abs(h)), 'b')\n",
    "ax1.set_ylabel('Modulo [dB]', color='b')\n",
    "ax1.set_xlabel('Frecuencia [rad/muestra]')\n",
    "ax1.xaxis.set_major_formatter(FuncFormatter(lambda val,pos: '{:.0g}$\\pi$'.format(val/np.pi) if val !=0 else '0'))\n",
    "\n",
    "ax2 = ax1.twinx()\n",
    "angles = np.unwrap(np.angle(h))\n",
    "ax2.plot(w, angles, 'g')\n",
    "ax2.set_ylabel('Fase (radianes)', color='g')\n",
    "ax2.grid()\n",
    "ax2.axis('tight')\n",
    "plt.show()\n",
    "\n",
    "filter_names=(\"  \")\n",
    "\n",
    "analog_fig_id, analog_axes_hdl = pzmap(transfer_f, filter_names, 3)"
   ]
  },
  {
   "cell_type": "markdown",
   "metadata": {},
   "source": [
    "1. Ambos sistemas introducen una demora correspondiente al orden del sistema. El de orden 1 introduce una demora de una muestra y el de orden 2 una demora de 2 muestras."
   ]
  }
 ],
 "metadata": {
  "kernelspec": {
   "display_name": "Python 3.9.7 ('base')",
   "language": "python",
   "name": "python3"
  },
  "language_info": {
   "codemirror_mode": {
    "name": "ipython",
    "version": 3
   },
   "file_extension": ".py",
   "mimetype": "text/x-python",
   "name": "python",
   "nbconvert_exporter": "python",
   "pygments_lexer": "ipython3",
   "version": "3.9.7"
  },
  "orig_nbformat": 4,
  "vscode": {
   "interpreter": {
    "hash": "6ca364f2759a5aafb09686aa9324eacc5d501526362630bb6a990b46351437c4"
   }
  }
 },
 "nbformat": 4,
 "nbformat_minor": 2
}
